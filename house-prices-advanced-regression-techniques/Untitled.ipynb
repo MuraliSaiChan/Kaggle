{
 "cells": [
  {
   "cell_type": "code",
   "execution_count": 1,
   "id": "e98f734c",
   "metadata": {},
   "outputs": [],
   "source": [
    "import pandas as pd\n",
    "import numpy as np\n",
    "import seaborn as sns\n",
    "import statsmodels.api as sm\n",
    "from sklearn.linear_model import *\n",
    "from sklearn.metrics import *\n",
    "from sklearn.model_selection import train_test_split\n",
    "from scipy.stats import zscore\n",
    "from sklearn.preprocessing import QuantileTransformer"
   ]
  },
  {
   "cell_type": "code",
   "execution_count": 2,
   "id": "6163b6f5",
   "metadata": {},
   "outputs": [],
   "source": [
    "import matplotlib.pyplot as plt"
   ]
  },
  {
   "cell_type": "code",
   "execution_count": 3,
   "id": "47ae4df4",
   "metadata": {},
   "outputs": [
    {
     "data": {
      "text/plain": [
       "(1460, 81)"
      ]
     },
     "execution_count": 3,
     "metadata": {},
     "output_type": "execute_result"
    }
   ],
   "source": [
    "df = pd.read_csv('train.csv')\n",
    "test = pd.read_csv('test.csv')\n",
    "df.shape"
   ]
  },
  {
   "cell_type": "code",
   "execution_count": 280,
   "id": "4072a1c8",
   "metadata": {},
   "outputs": [
    {
     "name": "stdout",
     "output_type": "stream",
     "text": [
      "<class 'pandas.core.frame.DataFrame'>\n",
      "RangeIndex: 1460 entries, 0 to 1459\n",
      "Data columns (total 81 columns):\n",
      " #   Column         Non-Null Count  Dtype  \n",
      "---  ------         --------------  -----  \n",
      " 0   Id             1460 non-null   int64  \n",
      " 1   MSSubClass     1460 non-null   int64  \n",
      " 2   MSZoning       1460 non-null   object \n",
      " 3   LotFrontage    1201 non-null   float64\n",
      " 4   LotArea        1460 non-null   int64  \n",
      " 5   Street         1460 non-null   object \n",
      " 6   Alley          91 non-null     object \n",
      " 7   LotShape       1460 non-null   object \n",
      " 8   LandContour    1460 non-null   object \n",
      " 9   Utilities      1460 non-null   object \n",
      " 10  LotConfig      1460 non-null   object \n",
      " 11  LandSlope      1460 non-null   object \n",
      " 12  Neighborhood   1460 non-null   object \n",
      " 13  Condition1     1460 non-null   object \n",
      " 14  Condition2     1460 non-null   object \n",
      " 15  BldgType       1460 non-null   object \n",
      " 16  HouseStyle     1460 non-null   object \n",
      " 17  OverallQual    1460 non-null   int64  \n",
      " 18  OverallCond    1460 non-null   int64  \n",
      " 19  YearBuilt      1460 non-null   int64  \n",
      " 20  YearRemodAdd   1460 non-null   int64  \n",
      " 21  RoofStyle      1460 non-null   object \n",
      " 22  RoofMatl       1460 non-null   object \n",
      " 23  Exterior1st    1460 non-null   object \n",
      " 24  Exterior2nd    1460 non-null   object \n",
      " 25  MasVnrType     1452 non-null   object \n",
      " 26  MasVnrArea     1452 non-null   float64\n",
      " 27  ExterQual      1460 non-null   object \n",
      " 28  ExterCond      1460 non-null   object \n",
      " 29  Foundation     1460 non-null   object \n",
      " 30  BsmtQual       1423 non-null   object \n",
      " 31  BsmtCond       1423 non-null   object \n",
      " 32  BsmtExposure   1422 non-null   object \n",
      " 33  BsmtFinType1   1423 non-null   object \n",
      " 34  BsmtFinSF1     1460 non-null   int64  \n",
      " 35  BsmtFinType2   1422 non-null   object \n",
      " 36  BsmtFinSF2     1460 non-null   int64  \n",
      " 37  BsmtUnfSF      1460 non-null   int64  \n",
      " 38  TotalBsmtSF    1460 non-null   int64  \n",
      " 39  Heating        1460 non-null   object \n",
      " 40  HeatingQC      1460 non-null   object \n",
      " 41  CentralAir     1460 non-null   object \n",
      " 42  Electrical     1459 non-null   object \n",
      " 43  1stFlrSF       1460 non-null   int64  \n",
      " 44  2ndFlrSF       1460 non-null   int64  \n",
      " 45  LowQualFinSF   1460 non-null   int64  \n",
      " 46  GrLivArea      1460 non-null   int64  \n",
      " 47  BsmtFullBath   1460 non-null   int64  \n",
      " 48  BsmtHalfBath   1460 non-null   int64  \n",
      " 49  FullBath       1460 non-null   int64  \n",
      " 50  HalfBath       1460 non-null   int64  \n",
      " 51  BedroomAbvGr   1460 non-null   int64  \n",
      " 52  KitchenAbvGr   1460 non-null   int64  \n",
      " 53  KitchenQual    1460 non-null   object \n",
      " 54  TotRmsAbvGrd   1460 non-null   int64  \n",
      " 55  Functional     1460 non-null   object \n",
      " 56  Fireplaces     1460 non-null   int64  \n",
      " 57  FireplaceQu    770 non-null    object \n",
      " 58  GarageType     1379 non-null   object \n",
      " 59  GarageYrBlt    1379 non-null   float64\n",
      " 60  GarageFinish   1379 non-null   object \n",
      " 61  GarageCars     1460 non-null   int64  \n",
      " 62  GarageArea     1460 non-null   int64  \n",
      " 63  GarageQual     1379 non-null   object \n",
      " 64  GarageCond     1379 non-null   object \n",
      " 65  PavedDrive     1460 non-null   object \n",
      " 66  WoodDeckSF     1460 non-null   int64  \n",
      " 67  OpenPorchSF    1460 non-null   int64  \n",
      " 68  EnclosedPorch  1460 non-null   int64  \n",
      " 69  3SsnPorch      1460 non-null   int64  \n",
      " 70  ScreenPorch    1460 non-null   int64  \n",
      " 71  PoolArea       1460 non-null   int64  \n",
      " 72  PoolQC         7 non-null      object \n",
      " 73  Fence          281 non-null    object \n",
      " 74  MiscFeature    54 non-null     object \n",
      " 75  MiscVal        1460 non-null   int64  \n",
      " 76  MoSold         1460 non-null   int64  \n",
      " 77  YrSold         1460 non-null   int64  \n",
      " 78  SaleType       1460 non-null   object \n",
      " 79  SaleCondition  1460 non-null   object \n",
      " 80  SalePrice      1460 non-null   int64  \n",
      "dtypes: float64(3), int64(35), object(43)\n",
      "memory usage: 924.0+ KB\n"
     ]
    }
   ],
   "source": [
    "data = df.copy()\n",
    "df.info()"
   ]
  },
  {
   "cell_type": "code",
   "execution_count": 281,
   "id": "d5e29b23",
   "metadata": {},
   "outputs": [],
   "source": [
    "data = data.drop(['PoolQC','Id','Alley','MiscFeature'],axis=1)"
   ]
  },
  {
   "cell_type": "code",
   "execution_count": 282,
   "id": "726805bd",
   "metadata": {},
   "outputs": [
    {
     "data": {
      "text/plain": [
       "Gd    380\n",
       "TA    313\n",
       "Fa     33\n",
       "Ex     24\n",
       "Po     20\n",
       "Name: FireplaceQu, dtype: int64"
      ]
     },
     "execution_count": 282,
     "metadata": {},
     "output_type": "execute_result"
    }
   ],
   "source": [
    "data['FireplaceQu'].value_counts()"
   ]
  },
  {
   "cell_type": "code",
   "execution_count": 283,
   "id": "74a52376",
   "metadata": {},
   "outputs": [],
   "source": [
    "data['FireplaceQu'].fillna('None',inplace=True)"
   ]
  },
  {
   "cell_type": "code",
   "execution_count": 284,
   "id": "01710ab1",
   "metadata": {},
   "outputs": [
    {
     "data": {
      "text/plain": [
       "MnPrv    157\n",
       "GdPrv     59\n",
       "GdWo      54\n",
       "MnWw      11\n",
       "Name: Fence, dtype: int64"
      ]
     },
     "execution_count": 284,
     "metadata": {},
     "output_type": "execute_result"
    }
   ],
   "source": [
    "data.Fence.value_counts()"
   ]
  },
  {
   "cell_type": "code",
   "execution_count": 285,
   "id": "41738c4f",
   "metadata": {},
   "outputs": [],
   "source": [
    "data.Fence.fillna('None',inplace=True)"
   ]
  },
  {
   "cell_type": "code",
   "execution_count": 286,
   "id": "8f13b8c5",
   "metadata": {},
   "outputs": [
    {
     "name": "stdout",
     "output_type": "stream",
     "text": [
      "<class 'pandas.core.frame.DataFrame'>\n",
      "RangeIndex: 1460 entries, 0 to 1459\n",
      "Data columns (total 77 columns):\n",
      " #   Column         Non-Null Count  Dtype  \n",
      "---  ------         --------------  -----  \n",
      " 0   MSSubClass     1460 non-null   int64  \n",
      " 1   MSZoning       1460 non-null   object \n",
      " 2   LotFrontage    1201 non-null   float64\n",
      " 3   LotArea        1460 non-null   int64  \n",
      " 4   Street         1460 non-null   object \n",
      " 5   LotShape       1460 non-null   object \n",
      " 6   LandContour    1460 non-null   object \n",
      " 7   Utilities      1460 non-null   object \n",
      " 8   LotConfig      1460 non-null   object \n",
      " 9   LandSlope      1460 non-null   object \n",
      " 10  Neighborhood   1460 non-null   object \n",
      " 11  Condition1     1460 non-null   object \n",
      " 12  Condition2     1460 non-null   object \n",
      " 13  BldgType       1460 non-null   object \n",
      " 14  HouseStyle     1460 non-null   object \n",
      " 15  OverallQual    1460 non-null   int64  \n",
      " 16  OverallCond    1460 non-null   int64  \n",
      " 17  YearBuilt      1460 non-null   int64  \n",
      " 18  YearRemodAdd   1460 non-null   int64  \n",
      " 19  RoofStyle      1460 non-null   object \n",
      " 20  RoofMatl       1460 non-null   object \n",
      " 21  Exterior1st    1460 non-null   object \n",
      " 22  Exterior2nd    1460 non-null   object \n",
      " 23  MasVnrType     1452 non-null   object \n",
      " 24  MasVnrArea     1452 non-null   float64\n",
      " 25  ExterQual      1460 non-null   object \n",
      " 26  ExterCond      1460 non-null   object \n",
      " 27  Foundation     1460 non-null   object \n",
      " 28  BsmtQual       1423 non-null   object \n",
      " 29  BsmtCond       1423 non-null   object \n",
      " 30  BsmtExposure   1422 non-null   object \n",
      " 31  BsmtFinType1   1423 non-null   object \n",
      " 32  BsmtFinSF1     1460 non-null   int64  \n",
      " 33  BsmtFinType2   1422 non-null   object \n",
      " 34  BsmtFinSF2     1460 non-null   int64  \n",
      " 35  BsmtUnfSF      1460 non-null   int64  \n",
      " 36  TotalBsmtSF    1460 non-null   int64  \n",
      " 37  Heating        1460 non-null   object \n",
      " 38  HeatingQC      1460 non-null   object \n",
      " 39  CentralAir     1460 non-null   object \n",
      " 40  Electrical     1459 non-null   object \n",
      " 41  1stFlrSF       1460 non-null   int64  \n",
      " 42  2ndFlrSF       1460 non-null   int64  \n",
      " 43  LowQualFinSF   1460 non-null   int64  \n",
      " 44  GrLivArea      1460 non-null   int64  \n",
      " 45  BsmtFullBath   1460 non-null   int64  \n",
      " 46  BsmtHalfBath   1460 non-null   int64  \n",
      " 47  FullBath       1460 non-null   int64  \n",
      " 48  HalfBath       1460 non-null   int64  \n",
      " 49  BedroomAbvGr   1460 non-null   int64  \n",
      " 50  KitchenAbvGr   1460 non-null   int64  \n",
      " 51  KitchenQual    1460 non-null   object \n",
      " 52  TotRmsAbvGrd   1460 non-null   int64  \n",
      " 53  Functional     1460 non-null   object \n",
      " 54  Fireplaces     1460 non-null   int64  \n",
      " 55  FireplaceQu    1460 non-null   object \n",
      " 56  GarageType     1379 non-null   object \n",
      " 57  GarageYrBlt    1379 non-null   float64\n",
      " 58  GarageFinish   1379 non-null   object \n",
      " 59  GarageCars     1460 non-null   int64  \n",
      " 60  GarageArea     1460 non-null   int64  \n",
      " 61  GarageQual     1379 non-null   object \n",
      " 62  GarageCond     1379 non-null   object \n",
      " 63  PavedDrive     1460 non-null   object \n",
      " 64  WoodDeckSF     1460 non-null   int64  \n",
      " 65  OpenPorchSF    1460 non-null   int64  \n",
      " 66  EnclosedPorch  1460 non-null   int64  \n",
      " 67  3SsnPorch      1460 non-null   int64  \n",
      " 68  ScreenPorch    1460 non-null   int64  \n",
      " 69  PoolArea       1460 non-null   int64  \n",
      " 70  Fence          1460 non-null   object \n",
      " 71  MiscVal        1460 non-null   int64  \n",
      " 72  MoSold         1460 non-null   int64  \n",
      " 73  YrSold         1460 non-null   int64  \n",
      " 74  SaleType       1460 non-null   object \n",
      " 75  SaleCondition  1460 non-null   object \n",
      " 76  SalePrice      1460 non-null   int64  \n",
      "dtypes: float64(3), int64(34), object(40)\n",
      "memory usage: 878.4+ KB\n"
     ]
    }
   ],
   "source": [
    "data.info()"
   ]
  },
  {
   "cell_type": "code",
   "execution_count": 287,
   "id": "c88a0506",
   "metadata": {},
   "outputs": [
    {
     "data": {
      "text/plain": [
       "Normal     1198\n",
       "Partial     125\n",
       "Abnorml     101\n",
       "Family       20\n",
       "Alloca       12\n",
       "AdjLand       4\n",
       "Name: SaleCondition, dtype: int64"
      ]
     },
     "execution_count": 287,
     "metadata": {},
     "output_type": "execute_result"
    }
   ],
   "source": [
    "data['SaleCondition'].value_counts()"
   ]
  },
  {
   "cell_type": "code",
   "execution_count": 288,
   "id": "3a33ba78",
   "metadata": {},
   "outputs": [
    {
     "data": {
      "image/png": "[encoded data removed]",
      "text/plain": [
       "<Figure size 432x288 with 1 Axes>"
      ]
     },
     "metadata": {
      "needs_background": "light"
     },
     "output_type": "display_data"
    }
   ],
   "source": [
    "#plt.figure(figsize=(15,10))\n",
    "sns.barplot(data = data, x = 'SaleCondition', y='SalePrice');"
   ]
  },
  {
   "cell_type": "code",
   "execution_count": 289,
   "id": "5e37d870",
   "metadata": {},
   "outputs": [],
   "source": [
    "data['MSSubClass']=data['MSSubClass'].astype('category')"
   ]
  },
  {
   "cell_type": "code",
   "execution_count": 290,
   "id": "9ccc0a12",
   "metadata": {},
   "outputs": [
    {
     "data": {
      "image/png": "[encoded data removed]",
      "text/plain": [
       "<Figure size 432x288 with 1 Axes>"
      ]
     },
     "metadata": {
      "needs_background": "light"
     },
     "output_type": "display_data"
    }
   ],
   "source": [
    "sns.scatterplot(data = data, x = 'MiscVal', y = \"SalePrice\");"
   ]
  },
  {
   "cell_type": "code",
   "execution_count": 291,
   "id": "d6c9d37f",
   "metadata": {},
   "outputs": [],
   "source": [
    "#plt.figure(figsize=(25,25))\n",
    "#sns.heatmap(data.corr(),annot=True);"
   ]
  },
  {
   "cell_type": "code",
   "execution_count": 292,
   "id": "2123dfd5",
   "metadata": {},
   "outputs": [],
   "source": [
    "rm = ['LotFrontage','LotArea','LotShape','Utilities','LotConfig','LandSlope','Condition2','BldgType','HouseStyle',\n",
    "     'RoofMatl','Exterior2nd','BsmtFinType2','BsmtFinSF2','BsmtUnfSF','Heating','Electrical','LowQualFinSF','BsmtHalfBath',\n",
    "     'BedroomAbvGr','KitchenAbvGr','Functional','GarageYrBlt','GarageQual','GarageCond','EnclosedPorch','3SsnPorch','ScreenPorch',\n",
    "     'PoolArea','Fence','MiscVal','MoSold','YrSold','SaleType','MasVnrArea','OpenPorchSF','WoodDeckSF']"
   ]
  },
  {
   "cell_type": "code",
   "execution_count": 293,
   "id": "41367b5b",
   "metadata": {},
   "outputs": [
    {
     "data": {
      "text/plain": [
       "(1460, 77)"
      ]
     },
     "execution_count": 293,
     "metadata": {},
     "output_type": "execute_result"
    }
   ],
   "source": [
    "data.shape"
   ]
  },
  {
   "cell_type": "code",
   "execution_count": 294,
   "id": "429972a6",
   "metadata": {},
   "outputs": [
    {
     "data": {
      "text/plain": [
       "(1460, 41)"
      ]
     },
     "execution_count": 294,
     "metadata": {},
     "output_type": "execute_result"
    }
   ],
   "source": [
    "data = data.drop(rm,axis=1)\n",
    "data.shape"
   ]
  },
  {
   "cell_type": "code",
   "execution_count": 295,
   "id": "e80ec776",
   "metadata": {},
   "outputs": [
    {
     "data": {
      "text/plain": [
       "WD       1267\n",
       "New       122\n",
       "COD        43\n",
       "ConLD       9\n",
       "ConLI       5\n",
       "ConLw       5\n",
       "CWD         4\n",
       "Oth         3\n",
       "Con         2\n",
       "Name: SaleType, dtype: int64"
      ]
     },
     "execution_count": 295,
     "metadata": {},
     "output_type": "execute_result"
    }
   ],
   "source": [
    "df.SaleType.value_counts()"
   ]
  },
  {
   "cell_type": "code",
   "execution_count": 296,
   "id": "b74bd492",
   "metadata": {},
   "outputs": [
    {
     "data": {
      "image/png": "[encoded data removed]",
      "text/plain": [
       "<Figure size 432x288 with 1 Axes>"
      ]
     },
     "metadata": {
      "needs_background": "light"
     },
     "output_type": "display_data"
    }
   ],
   "source": [
    "sns.scatterplot(data = df, x= 'MiscVal',y='SalePrice');"
   ]
  },
  {
   "cell_type": "code",
   "execution_count": 297,
   "id": "b5fc8763",
   "metadata": {},
   "outputs": [
    {
     "data": {
      "image/png": "[encoded data removed]",
      "text/plain": [
       "<Figure size 432x288 with 1 Axes>"
      ]
     },
     "metadata": {
      "needs_background": "light"
     },
     "output_type": "display_data"
    }
   ],
   "source": [
    "sns.scatterplot(data=df, x='EnclosedPorch', y='SalePrice');"
   ]
  },
  {
   "cell_type": "code",
   "execution_count": 298,
   "id": "f119f765",
   "metadata": {},
   "outputs": [
    {
     "data": {
      "text/plain": [
       "AllPub    1459\n",
       "NoSeWa       1\n",
       "Name: Utilities, dtype: int64"
      ]
     },
     "execution_count": 298,
     "metadata": {},
     "output_type": "execute_result"
    }
   ],
   "source": [
    "df.Utilities.value_counts()"
   ]
  },
  {
   "cell_type": "code",
   "execution_count": 299,
   "id": "2187db98",
   "metadata": {},
   "outputs": [
    {
     "data": {
      "image/png": "[encoded data removed]",
      "text/plain": [
       "<Figure size 432x288 with 1 Axes>"
      ]
     },
     "metadata": {
      "needs_background": "light"
     },
     "output_type": "display_data"
    }
   ],
   "source": [
    "sns.barplot(data = df.sort_values('YearBuilt'),x='YearBuilt',y='SalePrice');"
   ]
  },
  {
   "cell_type": "code",
   "execution_count": 300,
   "id": "397b67ec",
   "metadata": {},
   "outputs": [],
   "source": [
    "for i in ['GarageType','GarageFinish']:\n",
    "    data[i].fillna('None',inplace=True)"
   ]
  },
  {
   "cell_type": "code",
   "execution_count": 301,
   "id": "38dcf37b",
   "metadata": {},
   "outputs": [],
   "source": [
    "for i in data.select_dtypes('object').columns:\n",
    "    data[i].fillna(data[i].mode(),inplace=True)\n",
    "    data[i] = data[i].astype('category')"
   ]
  },
  {
   "cell_type": "code",
   "execution_count": 302,
   "id": "cd69db72",
   "metadata": {},
   "outputs": [
    {
     "name": "stdout",
     "output_type": "stream",
     "text": [
      "<class 'pandas.core.frame.DataFrame'>\n",
      "RangeIndex: 1460 entries, 0 to 1459\n",
      "Data columns (total 41 columns):\n",
      " #   Column         Non-Null Count  Dtype   \n",
      "---  ------         --------------  -----   \n",
      " 0   MSSubClass     1460 non-null   category\n",
      " 1   MSZoning       1460 non-null   category\n",
      " 2   Street         1460 non-null   category\n",
      " 3   LandContour    1460 non-null   category\n",
      " 4   Neighborhood   1460 non-null   category\n",
      " 5   Condition1     1460 non-null   category\n",
      " 6   OverallQual    1460 non-null   int64   \n",
      " 7   OverallCond    1460 non-null   int64   \n",
      " 8   YearBuilt      1460 non-null   int64   \n",
      " 9   YearRemodAdd   1460 non-null   int64   \n",
      " 10  RoofStyle      1460 non-null   category\n",
      " 11  Exterior1st    1460 non-null   category\n",
      " 12  MasVnrType     1452 non-null   category\n",
      " 13  ExterQual      1460 non-null   category\n",
      " 14  ExterCond      1460 non-null   category\n",
      " 15  Foundation     1460 non-null   category\n",
      " 16  BsmtQual       1423 non-null   category\n",
      " 17  BsmtCond       1423 non-null   category\n",
      " 18  BsmtExposure   1422 non-null   category\n",
      " 19  BsmtFinType1   1423 non-null   category\n",
      " 20  BsmtFinSF1     1460 non-null   int64   \n",
      " 21  TotalBsmtSF    1460 non-null   int64   \n",
      " 22  HeatingQC      1460 non-null   category\n",
      " 23  CentralAir     1460 non-null   category\n",
      " 24  1stFlrSF       1460 non-null   int64   \n",
      " 25  2ndFlrSF       1460 non-null   int64   \n",
      " 26  GrLivArea      1460 non-null   int64   \n",
      " 27  BsmtFullBath   1460 non-null   int64   \n",
      " 28  FullBath       1460 non-null   int64   \n",
      " 29  HalfBath       1460 non-null   int64   \n",
      " 30  KitchenQual    1460 non-null   category\n",
      " 31  TotRmsAbvGrd   1460 non-null   int64   \n",
      " 32  Fireplaces     1460 non-null   int64   \n",
      " 33  FireplaceQu    1460 non-null   category\n",
      " 34  GarageType     1460 non-null   category\n",
      " 35  GarageFinish   1460 non-null   category\n",
      " 36  GarageCars     1460 non-null   int64   \n",
      " 37  GarageArea     1460 non-null   int64   \n",
      " 38  PavedDrive     1460 non-null   category\n",
      " 39  SaleCondition  1460 non-null   category\n",
      " 40  SalePrice      1460 non-null   int64   \n",
      "dtypes: category(24), int64(17)\n",
      "memory usage: 234.7 KB\n"
     ]
    }
   ],
   "source": [
    "data.info()"
   ]
  },
  {
   "cell_type": "code",
   "execution_count": 303,
   "id": "03562d53",
   "metadata": {},
   "outputs": [
    {
     "data": {
      "image/png": "[encoded data removed]",
      "text/plain": [
       "<Figure size 432x288 with 1 Axes>"
      ]
     },
     "metadata": {
      "needs_background": "light"
     },
     "output_type": "display_data"
    }
   ],
   "source": [
    "sns.scatterplot(data = df, x='OpenPorchSF', y='SalePrice', hue = None);"
   ]
  },
  {
   "cell_type": "code",
   "execution_count": 304,
   "id": "10acee0b",
   "metadata": {},
   "outputs": [],
   "source": [
    "def outlier(x):\n",
    "    mean = x.mean()\n",
    "    std = x.std()\n",
    "    x = np.where(x<(mean-3*std),mean-3*std,x)\n",
    "    x = np.where(x>(mean+3*std),mean+3*std,x)\n",
    "    return x"
   ]
  },
  {
   "cell_type": "code",
   "execution_count": 305,
   "id": "75c60b91",
   "metadata": {},
   "outputs": [
    {
     "data": {
      "image/png": "[encoded data removed]",
      "text/plain": [
       "<Figure size 1080x720 with 17 Axes>"
      ]
     },
     "metadata": {
      "needs_background": "light"
     },
     "output_type": "display_data"
    }
   ],
   "source": [
    "plt.figure(figsize=(15,10))\n",
    "for i,j in enumerate(data.select_dtypes('int64').columns):\n",
    "    plt.subplot(7,5,i+1)\n",
    "    sns.boxplot(x=data[j]);"
   ]
  },
  {
   "cell_type": "code",
   "execution_count": 306,
   "id": "0e979e2b",
   "metadata": {},
   "outputs": [],
   "source": [
    "#data = data.drop(['MSSubClass','Exterior1st'],axis=1)"
   ]
  },
  {
   "cell_type": "code",
   "execution_count": 307,
   "id": "989a9322",
   "metadata": {},
   "outputs": [
    {
     "data": {
      "text/plain": [
       "<AxesSubplot:>"
      ]
     },
     "execution_count": 307,
     "metadata": {},
     "output_type": "execute_result"
    },
    {
     "data": {
      "image/png": "[encoded data removed]",
      "text/plain": [
       "<Figure size 720x720 with 2 Axes>"
      ]
     },
     "metadata": {
      "needs_background": "light"
     },
     "output_type": "display_data"
    }
   ],
   "source": [
    "plt.figure(figsize=(10,10))\n",
    "sns.heatmap(data.corr(),annot=True)"
   ]
  },
  {
   "cell_type": "code",
   "execution_count": 308,
   "id": "67608e16",
   "metadata": {},
   "outputs": [],
   "source": [
    "cols = []\n",
    "for i in data.select_dtypes(['int64','float64']).columns:\n",
    "    if len(data[i].value_counts()) > 30:\n",
    "        cols.append(i)\n",
    "cols = cols[:-1]"
   ]
  },
  {
   "cell_type": "code",
   "execution_count": 309,
   "id": "09dbf413",
   "metadata": {},
   "outputs": [],
   "source": [
    "def ready_test(test,pca=False,cols=None):\n",
    "    test = test.drop(['PoolQC','Id','Alley','MiscFeature'],axis=1)\n",
    "    test['MSSubClass']=test['MSSubClass'].astype('category')\n",
    "    test = test.drop(rm,axis=1)\n",
    "    for i in data.select_dtypes('object').columns:\n",
    "        test[i].fillna(\"None\",inplace=True)\n",
    "        test[i] = test[i].astype('category')\n",
    "    for i in test.select_dtypes(['int64','float64']).columns:\n",
    "        if len(test[i].value_counts()) < 20:\n",
    "            test[i].fillna(\"None\",inplace=True)\n",
    "        else:\n",
    "            test[i].fillna(test[i].mean(),inplace=True)\n",
    "    #for i in test.select_dtypes(['int64']).columns:\n",
    "    #    if len(test[i].value_counts()) < 30:\n",
    "    #        test[i] = test[i].astype('category')\n",
    "    if pca:\n",
    "        data_pca = test[cols]\n",
    "        data_pca = data_pca.apply(zscore)\n",
    "        pca = PCA(n_components=0.86)\n",
    "        output = pca.fit_transform(data_pca)\n",
    "        test = test.drop(cols,axis=1)\n",
    "        test = pd.concat([test,pd.DataFrame(output,columns=['PC'+str(i) for i in range(1,output.shape[1]+1)],index=test.index)],axis=1)\n",
    "    return test"
   ]
  },
  {
   "cell_type": "code",
   "execution_count": 310,
   "id": "1900ccd7",
   "metadata": {},
   "outputs": [],
   "source": [
    "# for i in data.select_dtypes(['int64']).columns:\n",
    "#     if len(data[i].value_counts()) < 30:\n",
    "#         data[i] = data[i].astype('category')"
   ]
  },
  {
   "cell_type": "code",
   "execution_count": 311,
   "id": "4b8329f1",
   "metadata": {},
   "outputs": [],
   "source": [
    "data1 = pd.get_dummies(data,drop_first=True)"
   ]
  },
  {
   "cell_type": "code",
   "execution_count": 312,
   "id": "7bfcab05",
   "metadata": {},
   "outputs": [
    {
     "data": {
      "text/plain": [
       "(1459, 41)"
      ]
     },
     "execution_count": 312,
     "metadata": {},
     "output_type": "execute_result"
    }
   ],
   "source": [
    "test1 = ready_test(test)\n",
    "test1.shape"
   ]
  },
  {
   "cell_type": "code",
   "execution_count": 313,
   "id": "357344fb",
   "metadata": {},
   "outputs": [
    {
     "data": {
      "text/plain": [
       "(1460, 41)"
      ]
     },
     "execution_count": 313,
     "metadata": {},
     "output_type": "execute_result"
    }
   ],
   "source": [
    "data.shape"
   ]
  },
  {
   "cell_type": "code",
   "execution_count": 314,
   "id": "c91e135b",
   "metadata": {},
   "outputs": [],
   "source": [
    "test2 = pd.get_dummies(test1,drop_first=True)"
   ]
  },
  {
   "cell_type": "code",
   "execution_count": 315,
   "id": "ffc5f3b1",
   "metadata": {},
   "outputs": [],
   "source": [
    "from sklearn.decomposition import PCA"
   ]
  },
  {
   "cell_type": "code",
   "execution_count": 316,
   "id": "6307b701",
   "metadata": {},
   "outputs": [],
   "source": [
    "from scipy.stats import zscore"
   ]
  },
  {
   "cell_type": "code",
   "execution_count": 317,
   "id": "0cac24d7",
   "metadata": {},
   "outputs": [],
   "source": [
    "data_pca = data[cols]\n",
    "data_pca = data_pca.apply(zscore)"
   ]
  },
  {
   "cell_type": "code",
   "execution_count": 318,
   "id": "6a4bc5b4",
   "metadata": {},
   "outputs": [
    {
     "data": {
      "image/png": "[encoded data removed]",
      "text/plain": [
       "<Figure size 432x288 with 2 Axes>"
      ]
     },
     "metadata": {
      "needs_background": "light"
     },
     "output_type": "display_data"
    }
   ],
   "source": [
    "sns.heatmap(data_pca.corr(),annot=True);"
   ]
  },
  {
   "cell_type": "code",
   "execution_count": 319,
   "id": "a3498b5e",
   "metadata": {},
   "outputs": [],
   "source": [
    "pca = PCA(n_components=0.86)\n",
    "output = pca.fit_transform(data_pca)"
   ]
  },
  {
   "cell_type": "code",
   "execution_count": 320,
   "id": "ab1a8451",
   "metadata": {},
   "outputs": [],
   "source": [
    "#output.shape"
   ]
  },
  {
   "cell_type": "code",
   "execution_count": 321,
   "id": "b5e96fca",
   "metadata": {},
   "outputs": [],
   "source": [
    "#np.cumsum(pca.explained_variance_ratio_)"
   ]
  },
  {
   "cell_type": "code",
   "execution_count": 322,
   "id": "170355fa",
   "metadata": {},
   "outputs": [],
   "source": [
    "#data1 = data1.drop(cols,axis=1)\n",
    "#data1 = pd.concat([data1,pd.DataFrame(output,columns=['PC'+str(i) for i in range(1,5)],index=data1.index)],axis=1)\n",
    "#data1.shape"
   ]
  },
  {
   "cell_type": "code",
   "execution_count": 323,
   "id": "b6f6db77",
   "metadata": {},
   "outputs": [
    {
     "data": {
      "text/html": [
       "<div>\n",
       "<style scoped>\n",
       "    .dataframe tbody tr th:only-of-type {\n",
       "        vertical-align: middle;\n",
       "    }\n",
       "\n",
       "    .dataframe tbody tr th {\n",
       "        vertical-align: top;\n",
       "    }\n",
       "\n",
       "    .dataframe thead th {\n",
       "        text-align: right;\n",
       "    }\n",
       "</style>\n",
       "<table border=\"1\" class=\"dataframe\">\n",
       "  <thead>\n",
       "    <tr style=\"text-align: right;\">\n",
       "      <th></th>\n",
       "      <th>OverallQual</th>\n",
       "      <th>OverallCond</th>\n",
       "      <th>YearBuilt</th>\n",
       "      <th>YearRemodAdd</th>\n",
       "      <th>BsmtFinSF1</th>\n",
       "      <th>TotalBsmtSF</th>\n",
       "      <th>1stFlrSF</th>\n",
       "      <th>2ndFlrSF</th>\n",
       "      <th>GrLivArea</th>\n",
       "      <th>BsmtFullBath</th>\n",
       "      <th>...</th>\n",
       "      <th>GarageFinish_None</th>\n",
       "      <th>GarageFinish_RFn</th>\n",
       "      <th>GarageFinish_Unf</th>\n",
       "      <th>PavedDrive_P</th>\n",
       "      <th>PavedDrive_Y</th>\n",
       "      <th>SaleCondition_AdjLand</th>\n",
       "      <th>SaleCondition_Alloca</th>\n",
       "      <th>SaleCondition_Family</th>\n",
       "      <th>SaleCondition_Normal</th>\n",
       "      <th>SaleCondition_Partial</th>\n",
       "    </tr>\n",
       "  </thead>\n",
       "  <tbody>\n",
       "    <tr>\n",
       "      <th>0</th>\n",
       "      <td>7</td>\n",
       "      <td>5</td>\n",
       "      <td>2003</td>\n",
       "      <td>2003</td>\n",
       "      <td>706</td>\n",
       "      <td>856</td>\n",
       "      <td>856</td>\n",
       "      <td>854</td>\n",
       "      <td>1710</td>\n",
       "      <td>1</td>\n",
       "      <td>...</td>\n",
       "      <td>0</td>\n",
       "      <td>1</td>\n",
       "      <td>0</td>\n",
       "      <td>0</td>\n",
       "      <td>1</td>\n",
       "      <td>0</td>\n",
       "      <td>0</td>\n",
       "      <td>0</td>\n",
       "      <td>1</td>\n",
       "      <td>0</td>\n",
       "    </tr>\n",
       "    <tr>\n",
       "      <th>1</th>\n",
       "      <td>6</td>\n",
       "      <td>8</td>\n",
       "      <td>1976</td>\n",
       "      <td>1976</td>\n",
       "      <td>978</td>\n",
       "      <td>1262</td>\n",
       "      <td>1262</td>\n",
       "      <td>0</td>\n",
       "      <td>1262</td>\n",
       "      <td>0</td>\n",
       "      <td>...</td>\n",
       "      <td>0</td>\n",
       "      <td>1</td>\n",
       "      <td>0</td>\n",
       "      <td>0</td>\n",
       "      <td>1</td>\n",
       "      <td>0</td>\n",
       "      <td>0</td>\n",
       "      <td>0</td>\n",
       "      <td>1</td>\n",
       "      <td>0</td>\n",
       "    </tr>\n",
       "    <tr>\n",
       "      <th>2</th>\n",
       "      <td>7</td>\n",
       "      <td>5</td>\n",
       "      <td>2001</td>\n",
       "      <td>2002</td>\n",
       "      <td>486</td>\n",
       "      <td>920</td>\n",
       "      <td>920</td>\n",
       "      <td>866</td>\n",
       "      <td>1786</td>\n",
       "      <td>1</td>\n",
       "      <td>...</td>\n",
       "      <td>0</td>\n",
       "      <td>1</td>\n",
       "      <td>0</td>\n",
       "      <td>0</td>\n",
       "      <td>1</td>\n",
       "      <td>0</td>\n",
       "      <td>0</td>\n",
       "      <td>0</td>\n",
       "      <td>1</td>\n",
       "      <td>0</td>\n",
       "    </tr>\n",
       "    <tr>\n",
       "      <th>3</th>\n",
       "      <td>7</td>\n",
       "      <td>5</td>\n",
       "      <td>1915</td>\n",
       "      <td>1970</td>\n",
       "      <td>216</td>\n",
       "      <td>756</td>\n",
       "      <td>961</td>\n",
       "      <td>756</td>\n",
       "      <td>1717</td>\n",
       "      <td>1</td>\n",
       "      <td>...</td>\n",
       "      <td>0</td>\n",
       "      <td>0</td>\n",
       "      <td>1</td>\n",
       "      <td>0</td>\n",
       "      <td>1</td>\n",
       "      <td>0</td>\n",
       "      <td>0</td>\n",
       "      <td>0</td>\n",
       "      <td>0</td>\n",
       "      <td>0</td>\n",
       "    </tr>\n",
       "    <tr>\n",
       "      <th>4</th>\n",
       "      <td>8</td>\n",
       "      <td>5</td>\n",
       "      <td>2000</td>\n",
       "      <td>2000</td>\n",
       "      <td>655</td>\n",
       "      <td>1145</td>\n",
       "      <td>1145</td>\n",
       "      <td>1053</td>\n",
       "      <td>2198</td>\n",
       "      <td>1</td>\n",
       "      <td>...</td>\n",
       "      <td>0</td>\n",
       "      <td>1</td>\n",
       "      <td>0</td>\n",
       "      <td>0</td>\n",
       "      <td>1</td>\n",
       "      <td>0</td>\n",
       "      <td>0</td>\n",
       "      <td>0</td>\n",
       "      <td>1</td>\n",
       "      <td>0</td>\n",
       "    </tr>\n",
       "  </tbody>\n",
       "</table>\n",
       "<p>5 rows × 148 columns</p>\n",
       "</div>"
      ],
      "text/plain": [
       "   OverallQual  OverallCond  YearBuilt  YearRemodAdd  BsmtFinSF1  TotalBsmtSF  \\\n",
       "0            7            5       2003          2003         706          856   \n",
       "1            6            8       1976          1976         978         1262   \n",
       "2            7            5       2001          2002         486          920   \n",
       "3            7            5       1915          1970         216          756   \n",
       "4            8            5       2000          2000         655         1145   \n",
       "\n",
       "   1stFlrSF  2ndFlrSF  GrLivArea  BsmtFullBath  ...  GarageFinish_None  \\\n",
       "0       856       854       1710             1  ...                  0   \n",
       "1      1262         0       1262             0  ...                  0   \n",
       "2       920       866       1786             1  ...                  0   \n",
       "3       961       756       1717             1  ...                  0   \n",
       "4      1145      1053       2198             1  ...                  0   \n",
       "\n",
       "   GarageFinish_RFn  GarageFinish_Unf  PavedDrive_P  PavedDrive_Y  \\\n",
       "0                 1                 0             0             1   \n",
       "1                 1                 0             0             1   \n",
       "2                 1                 0             0             1   \n",
       "3                 0                 1             0             1   \n",
       "4                 1                 0             0             1   \n",
       "\n",
       "   SaleCondition_AdjLand  SaleCondition_Alloca  SaleCondition_Family  \\\n",
       "0                      0                     0                     0   \n",
       "1                      0                     0                     0   \n",
       "2                      0                     0                     0   \n",
       "3                      0                     0                     0   \n",
       "4                      0                     0                     0   \n",
       "\n",
       "   SaleCondition_Normal  SaleCondition_Partial  \n",
       "0                     1                      0  \n",
       "1                     1                      0  \n",
       "2                     1                      0  \n",
       "3                     0                      0  \n",
       "4                     1                      0  \n",
       "\n",
       "[5 rows x 148 columns]"
      ]
     },
     "execution_count": 323,
     "metadata": {},
     "output_type": "execute_result"
    }
   ],
   "source": [
    "data1.head()"
   ]
  },
  {
   "cell_type": "code",
   "execution_count": 324,
   "id": "00fd264f",
   "metadata": {},
   "outputs": [],
   "source": [
    "X = data1.drop('SalePrice',axis=1)\n",
    "y = data1[['SalePrice']]"
   ]
  },
  {
   "cell_type": "code",
   "execution_count": 325,
   "id": "334c0d47",
   "metadata": {},
   "outputs": [],
   "source": [
    "for i in X.columns:\n",
    "    if i not in test2.columns:\n",
    "        test2[i] = 0"
   ]
  },
  {
   "cell_type": "code",
   "execution_count": 326,
   "id": "d9e416c9",
   "metadata": {},
   "outputs": [],
   "source": [
    "for i in test2.columns:\n",
    "    if i not in X.columns:\n",
    "        test2.drop(i,axis=1,inplace=True)"
   ]
  },
  {
   "cell_type": "code",
   "execution_count": 327,
   "id": "b9c1fd1f",
   "metadata": {},
   "outputs": [],
   "source": [
    "test2=test2.loc[:,X.columns]"
   ]
  },
  {
   "cell_type": "code",
   "execution_count": 328,
   "id": "0cb004d4",
   "metadata": {},
   "outputs": [
    {
     "data": {
      "text/plain": [
       "(1459, 147)"
      ]
     },
     "execution_count": 328,
     "metadata": {},
     "output_type": "execute_result"
    }
   ],
   "source": [
    "test2.shape"
   ]
  },
  {
   "cell_type": "code",
   "execution_count": 329,
   "id": "b462003a",
   "metadata": {},
   "outputs": [
    {
     "data": {
      "text/plain": [
       "(1460, 148)"
      ]
     },
     "execution_count": 329,
     "metadata": {},
     "output_type": "execute_result"
    }
   ],
   "source": [
    "data1.shape"
   ]
  },
  {
   "cell_type": "code",
   "execution_count": 330,
   "id": "4800611d",
   "metadata": {},
   "outputs": [
    {
     "data": {
      "text/plain": [
       "(1460, 147)"
      ]
     },
     "execution_count": 330,
     "metadata": {},
     "output_type": "execute_result"
    }
   ],
   "source": [
    "X.shape"
   ]
  },
  {
   "cell_type": "code",
   "execution_count": 331,
   "id": "c80a4b4e",
   "metadata": {},
   "outputs": [],
   "source": [
    "X_train,X_test,y_train,y_test = train_test_split(X,y,test_size=0.3,random_state=42)"
   ]
  },
  {
   "cell_type": "code",
   "execution_count": 332,
   "id": "ba2f7ecc",
   "metadata": {},
   "outputs": [
    {
     "data": {
      "text/plain": [
       "(1022, 147)"
      ]
     },
     "execution_count": 332,
     "metadata": {},
     "output_type": "execute_result"
    }
   ],
   "source": [
    "X_train.shape"
   ]
  },
  {
   "cell_type": "code",
   "execution_count": 333,
   "id": "4052516b",
   "metadata": {},
   "outputs": [
    {
     "data": {
      "text/plain": [
       "<statsmodels.regression.linear_model.RegressionResultsWrapper at 0x27d21391ca0>"
      ]
     },
     "execution_count": 333,
     "metadata": {},
     "output_type": "execute_result"
    }
   ],
   "source": [
    "lm = sm.OLS(y_train, X_train)\n",
    "mod = lm.fit()\n",
    "mod"
   ]
  },
  {
   "cell_type": "code",
   "execution_count": 334,
   "id": "1b86af9d",
   "metadata": {},
   "outputs": [
    {
     "name": "stdout",
     "output_type": "stream",
     "text": [
      "                                 OLS Regression Results                                \n",
      "=======================================================================================\n",
      "Dep. Variable:              SalePrice   R-squared (uncentered):                   0.982\n",
      "Model:                            OLS   Adj. R-squared (uncentered):              0.979\n",
      "Method:                 Least Squares   F-statistic:                              322.6\n",
      "Date:                Wed, 01 Feb 2023   Prob (F-statistic):                        0.00\n",
      "Time:                        11:10:21   Log-Likelihood:                         -11869.\n",
      "No. Observations:                1022   AIC:                                  2.403e+04\n",
      "Df Residuals:                     877   BIC:                                  2.474e+04\n",
      "Df Model:                         145                                                  \n",
      "Covariance Type:            nonrobust                                                  \n",
      "=========================================================================================\n",
      "                            coef    std err          t      P>|t|      [0.025      0.975]\n",
      "-----------------------------------------------------------------------------------------\n",
      "OverallQual            8787.8784   1485.641      5.915      0.000    5872.051    1.17e+04\n",
      "OverallCond            4954.0445   1256.929      3.941      0.000    2487.104    7420.985\n",
      "YearBuilt                 6.3018     73.178      0.086      0.931    -137.323     149.926\n",
      "YearRemodAdd             -9.2621     72.200     -0.128      0.898    -150.967     132.443\n",
      "BsmtFinSF1               -2.8870      4.075     -0.708      0.479     -10.885       5.111\n",
      "TotalBsmtSF               4.1548      6.011      0.691      0.490      -7.643      15.953\n",
      "1stFlrSF                -25.6315     25.516     -1.005      0.315     -75.710      24.447\n",
      "2ndFlrSF                 -8.0035     24.917     -0.321      0.748     -56.908      40.901\n",
      "GrLivArea                53.9928     24.532      2.201      0.028       5.845     102.141\n",
      "BsmtFullBath           9340.4799   2664.473      3.506      0.000    4110.991    1.46e+04\n",
      "FullBath               9680.6512   3186.492      3.038      0.002    3426.611    1.59e+04\n",
      "HalfBath               6001.6124   3057.816      1.963      0.050       0.120     1.2e+04\n",
      "TotRmsAbvGrd           2234.8664   1256.264      1.779      0.076    -230.769    4700.502\n",
      "Fireplaces             7499.5376   3742.481      2.004      0.045     154.272    1.48e+04\n",
      "GarageCars             1.457e+04   3329.373      4.376      0.000    8035.435    2.11e+04\n",
      "GarageArea               -3.5521     11.153     -0.318      0.750     -25.442      18.337\n",
      "MSSubClass_30         -2016.7663   6701.780     -0.301      0.764   -1.52e+04    1.11e+04\n",
      "MSSubClass_40          1.105e+04   2.56e+04      0.432      0.666   -3.91e+04    6.12e+04\n",
      "MSSubClass_45          3374.4716   1.17e+04      0.288      0.774   -1.96e+04    2.64e+04\n",
      "MSSubClass_50         -9606.6423   5912.837     -1.625      0.105   -2.12e+04    1998.320\n",
      "MSSubClass_60         -2.602e+04   6384.238     -4.075      0.000   -3.85e+04   -1.35e+04\n",
      "MSSubClass_70         -1.772e+04   8134.146     -2.179      0.030   -3.37e+04   -1757.063\n",
      "MSSubClass_75         -8569.3439    1.2e+04     -0.713      0.476   -3.22e+04     1.5e+04\n",
      "MSSubClass_80         -1.889e+04   5780.837     -3.268      0.001   -3.02e+04   -7548.686\n",
      "MSSubClass_85         -1.901e+04   9086.886     -2.092      0.037   -3.68e+04   -1172.849\n",
      "MSSubClass_90         -3.166e+04   6955.347     -4.553      0.000   -4.53e+04    -1.8e+04\n",
      "MSSubClass_120        -3.348e+04   6098.747     -5.489      0.000   -4.54e+04   -2.15e+04\n",
      "MSSubClass_160        -6.344e+04   9096.566     -6.974      0.000   -8.13e+04   -4.56e+04\n",
      "MSSubClass_180        -3.613e+04   1.55e+04     -2.330      0.020   -6.66e+04   -5701.822\n",
      "MSSubClass_190        -2.793e+04   8342.793     -3.348      0.001   -4.43e+04   -1.16e+04\n",
      "MSZoning_FV            2.504e+04   2.01e+04      1.246      0.213   -1.44e+04    6.45e+04\n",
      "MSZoning_RH            8913.2787   1.94e+04      0.460      0.646   -2.91e+04     4.7e+04\n",
      "MSZoning_RL            1.274e+04   1.75e+04      0.727      0.468   -2.17e+04    4.72e+04\n",
      "MSZoning_RM            1.354e+04   1.69e+04      0.800      0.424   -1.97e+04    4.68e+04\n",
      "Street_Pave           -1.147e+04   1.73e+04     -0.665      0.506   -4.53e+04    2.24e+04\n",
      "LandContour_HLS         3.95e+04   8092.044      4.882      0.000    2.36e+04    5.54e+04\n",
      "LandContour_Low        2.794e+04   9051.252      3.087      0.002    1.02e+04    4.57e+04\n",
      "LandContour_Lvl        2.314e+04   5564.008      4.159      0.000    1.22e+04    3.41e+04\n",
      "Neighborhood_Blueste  -3635.1664   3.26e+04     -0.112      0.911   -6.76e+04    6.03e+04\n",
      "Neighborhood_BrDale    9140.9052   1.63e+04      0.560      0.576   -2.29e+04    4.12e+04\n",
      "Neighborhood_BrkSide  -1.598e+04   1.29e+04     -1.234      0.218   -4.14e+04    9435.735\n",
      "Neighborhood_ClearCr   -687.1366   1.31e+04     -0.052      0.958   -2.64e+04    2.51e+04\n",
      "Neighborhood_CollgCr  -4480.8429   1.02e+04     -0.437      0.662   -2.46e+04    1.56e+04\n",
      "Neighborhood_Crawfor   3720.6241   1.23e+04      0.303      0.762   -2.04e+04    2.78e+04\n",
      "Neighborhood_Edwards  -2.639e+04   1.13e+04     -2.343      0.019   -4.85e+04   -4284.882\n",
      "Neighborhood_Gilbert  -7546.3799   1.09e+04     -0.694      0.488   -2.89e+04    1.38e+04\n",
      "Neighborhood_IDOTRR   -2.823e+04   1.51e+04     -1.864      0.063    -5.8e+04    1499.787\n",
      "Neighborhood_MeadowV  -9467.8673   1.82e+04     -0.521      0.603   -4.52e+04    2.62e+04\n",
      "Neighborhood_Mitchel  -1.728e+04   1.16e+04     -1.486      0.138   -4.01e+04    5548.294\n",
      "Neighborhood_NAmes    -2.242e+04    1.1e+04     -2.046      0.041   -4.39e+04    -908.756\n",
      "Neighborhood_NPkVill   9234.8621   1.68e+04      0.550      0.582   -2.37e+04    4.22e+04\n",
      "Neighborhood_NWAmes   -1.251e+04   1.13e+04     -1.111      0.267   -3.46e+04    9587.961\n",
      "Neighborhood_NoRidge   4.819e+04   1.16e+04      4.137      0.000    2.53e+04    7.11e+04\n",
      "Neighborhood_NridgHt     2.7e+04   1.06e+04      2.549      0.011    6213.734    4.78e+04\n",
      "Neighborhood_OldTown  -2.979e+04   1.37e+04     -2.181      0.029   -5.66e+04   -2983.562\n",
      "Neighborhood_SWISU    -2.338e+04   1.41e+04     -1.660      0.097    -5.1e+04    4255.743\n",
      "Neighborhood_Sawyer   -1.355e+04   1.16e+04     -1.170      0.242   -3.63e+04    9186.074\n",
      "Neighborhood_SawyerW  -2335.3857   1.12e+04     -0.208      0.835   -2.44e+04    1.97e+04\n",
      "Neighborhood_Somerst   4733.2824   1.32e+04      0.360      0.719   -2.11e+04    3.06e+04\n",
      "Neighborhood_StoneBr   5.037e+04   1.14e+04      4.421      0.000     2.8e+04    7.27e+04\n",
      "Neighborhood_Timber   -4986.2255   1.14e+04     -0.436      0.663   -2.74e+04    1.74e+04\n",
      "Neighborhood_Veenker   1.612e+04   1.46e+04      1.104      0.270   -1.25e+04    4.48e+04\n",
      "Condition1_Feedr      -3697.5794   7042.015     -0.525      0.600   -1.75e+04    1.01e+04\n",
      "Condition1_Norm        1.242e+04   5736.973      2.165      0.031    1162.241    2.37e+04\n",
      "Condition1_PosA       -5166.5082   1.44e+04     -0.360      0.719   -3.34e+04     2.3e+04\n",
      "Condition1_PosN        -120.0294   1.01e+04     -0.012      0.991   -1.99e+04    1.97e+04\n",
      "Condition1_RRAe       -9445.9175   1.28e+04     -0.740      0.460   -3.45e+04    1.56e+04\n",
      "Condition1_RRAn        8132.4292   9746.119      0.834      0.404    -1.1e+04    2.73e+04\n",
      "Condition1_RRNe        7659.1150   3.04e+04      0.252      0.801   -5.21e+04    6.74e+04\n",
      "Condition1_RRNn        8407.7535   1.57e+04      0.535      0.593   -2.24e+04    3.92e+04\n",
      "RoofStyle_Gable       -5654.5965   1.08e+04     -0.521      0.602   -2.69e+04    1.56e+04\n",
      "RoofStyle_Gambrel     -2627.3248   1.53e+04     -0.171      0.864   -3.27e+04    2.75e+04\n",
      "RoofStyle_Hip         -3333.9693   1.11e+04     -0.300      0.764   -2.51e+04    1.85e+04\n",
      "RoofStyle_Mansard      1.758e+04   1.94e+04      0.906      0.365   -2.05e+04    5.56e+04\n",
      "RoofStyle_Shed        -9632.0921   2.83e+04     -0.340      0.734   -6.53e+04     4.6e+04\n",
      "Exterior1st_AsphShn   -2.234e+04   3.27e+04     -0.684      0.494   -8.65e+04    4.18e+04\n",
      "Exterior1st_BrkComm   -1.216e+04   2.42e+04     -0.502      0.616   -5.96e+04    3.53e+04\n",
      "Exterior1st_BrkFace    2.147e+04   9975.658      2.152      0.032    1886.426     4.1e+04\n",
      "Exterior1st_CBlock     -2.05e+04   3.53e+04     -0.581      0.562   -8.98e+04    4.88e+04\n",
      "Exterior1st_CemntBd   -1013.1741   1.06e+04     -0.095      0.924   -2.19e+04    1.99e+04\n",
      "Exterior1st_HdBoard   -5490.1015   9122.210     -0.602      0.547   -2.34e+04    1.24e+04\n",
      "Exterior1st_ImStucc   -6.948e-12   4.43e-11     -0.157      0.875   -9.39e-11       8e-11\n",
      "Exterior1st_MetalSd   -2878.8489   8738.321     -0.329      0.742      -2e+04    1.43e+04\n",
      "Exterior1st_Plywood   -5500.9891   9703.857     -0.567      0.571   -2.45e+04    1.35e+04\n",
      "Exterior1st_Stone     -9817.7419   3.26e+04     -0.301      0.763   -7.37e+04    5.41e+04\n",
      "Exterior1st_Stucco    -1.863e+04   1.13e+04     -1.642      0.101   -4.09e+04    3639.396\n",
      "Exterior1st_VinylSd   -5262.7130   8838.442     -0.595      0.552   -2.26e+04    1.21e+04\n",
      "Exterior1st_Wd Sdng   -2532.4865   8721.153     -0.290      0.772   -1.96e+04    1.46e+04\n",
      "Exterior1st_WdShing   -1.089e+04   1.12e+04     -0.970      0.332   -3.29e+04    1.11e+04\n",
      "MasVnrType_BrkFace     2194.2410   8339.936      0.263      0.793   -1.42e+04    1.86e+04\n",
      "MasVnrType_None        2019.9742   8238.530      0.245      0.806   -1.41e+04    1.82e+04\n",
      "MasVnrType_Stone       6137.8054   9031.956      0.680      0.497   -1.16e+04    2.39e+04\n",
      "ExterQual_Fa           9866.6060   1.58e+04      0.623      0.533   -2.12e+04    4.09e+04\n",
      "ExterQual_Gd          -8588.8199   7064.745     -1.216      0.224   -2.25e+04    5276.963\n",
      "ExterQual_TA          -9583.2237   7791.800     -1.230      0.219   -2.49e+04    5709.529\n",
      "ExterCond_Fa            233.0835   2.32e+04      0.010      0.992   -4.53e+04    4.58e+04\n",
      "ExterCond_Gd            562.4546    2.2e+04      0.026      0.980   -4.26e+04    4.38e+04\n",
      "ExterCond_Po          -1.779e+04   3.88e+04     -0.458      0.647    -9.4e+04    5.84e+04\n",
      "ExterCond_TA           -921.4100   2.19e+04     -0.042      0.966    -4.4e+04    4.21e+04\n",
      "Foundation_CBlock      7678.6251   4681.879      1.640      0.101   -1510.372    1.69e+04\n",
      "Foundation_PConc       9954.1420   4960.560      2.007      0.045     218.187    1.97e+04\n",
      "Foundation_Slab       -2.711e+04   1.19e+04     -2.275      0.023   -5.05e+04   -3725.229\n",
      "Foundation_Stone       2445.2680   1.49e+04      0.164      0.870   -2.69e+04    3.18e+04\n",
      "Foundation_Wood        6700.3186   1.85e+04      0.361      0.718   -2.97e+04    4.31e+04\n",
      "BsmtQual_Fa           -2.555e+04   8184.794     -3.122      0.002   -4.16e+04   -9487.922\n",
      "BsmtQual_Gd           -2.893e+04   4683.613     -6.177      0.000   -3.81e+04   -1.97e+04\n",
      "BsmtQual_TA           -2.748e+04   5478.494     -5.016      0.000   -3.82e+04   -1.67e+04\n",
      "BsmtCond_Gd            8195.8508   7345.415      1.116      0.265   -6220.794    2.26e+04\n",
      "BsmtCond_Po           -1.805e+04   3.58e+04     -0.504      0.614   -8.83e+04    5.22e+04\n",
      "BsmtCond_TA            1.426e+04   5702.893      2.500      0.013    3065.540    2.55e+04\n",
      "BsmtExposure_Gd        2.197e+04   4369.600      5.028      0.000    1.34e+04    3.05e+04\n",
      "BsmtExposure_Mn       -2564.0154   4512.105     -0.568      0.570   -1.14e+04    6291.770\n",
      "BsmtExposure_No       -6021.3892   3226.585     -1.866      0.062   -1.24e+04     311.340\n",
      "BsmtFinType1_BLQ         82.7076   4047.718      0.020      0.984   -7861.639    8027.054\n",
      "BsmtFinType1_GLQ       3921.8617   3601.333      1.089      0.276   -3146.376     1.1e+04\n",
      "BsmtFinType1_LwQ      -6356.8641   5183.984     -1.226      0.220   -1.65e+04    3817.599\n",
      "BsmtFinType1_Rec       2086.7205   4453.798      0.469      0.640   -6654.627    1.08e+04\n",
      "BsmtFinType1_Unf      -7422.4908   4100.844     -1.810      0.071   -1.55e+04     626.123\n",
      "HeatingQC_Fa          -6276.9540   6211.521     -1.011      0.313   -1.85e+04    5914.228\n",
      "HeatingQC_Gd          -7745.2252   3107.561     -2.492      0.013   -1.38e+04   -1646.101\n",
      "HeatingQC_Po          -1.764e+04   3.45e+04     -0.512      0.609   -8.53e+04       5e+04\n",
      "HeatingQC_TA          -3742.8476   3237.054     -1.156      0.248   -1.01e+04    2610.431\n",
      "CentralAir_Y           3156.1547   5026.803      0.628      0.530   -6709.813     1.3e+04\n",
      "KitchenQual_Fa        -2.472e+04   9035.762     -2.736      0.006   -4.25e+04   -6983.750\n",
      "KitchenQual_Gd        -2.992e+04   5481.957     -5.458      0.000   -4.07e+04   -1.92e+04\n",
      "KitchenQual_TA        -3.419e+04   6162.222     -5.549      0.000   -4.63e+04   -2.21e+04\n",
      "FireplaceQu_Fa        -1.132e+04   1.02e+04     -1.115      0.265   -3.13e+04    8613.113\n",
      "FireplaceQu_Gd        -1.009e+04   7800.582     -1.294      0.196   -2.54e+04    5216.006\n",
      "FireplaceQu_None      -6876.8366   9058.568     -0.759      0.448   -2.47e+04    1.09e+04\n",
      "FireplaceQu_Po        -1.164e+04   1.15e+04     -1.012      0.312   -3.42e+04    1.09e+04\n",
      "FireplaceQu_TA        -4633.2531   8049.528     -0.576      0.565   -2.04e+04    1.12e+04\n",
      "GarageType_Attchd      3.343e+04   1.69e+04      1.980      0.048     298.344    6.66e+04\n",
      "GarageType_Basment     3.124e+04   1.92e+04      1.631      0.103   -6360.038    6.88e+04\n",
      "GarageType_BuiltIn     3.221e+04   1.75e+04      1.845      0.065   -2059.127    6.65e+04\n",
      "GarageType_CarPort     2.785e+04   2.06e+04      1.351      0.177   -1.26e+04    6.83e+04\n",
      "GarageType_Detchd      3.317e+04   1.68e+04      1.979      0.048     273.777    6.61e+04\n",
      "GarageType_None        2.116e+04   9236.654      2.290      0.022    3027.967    3.93e+04\n",
      "GarageFinish_None      2.116e+04   9236.654      2.290      0.022    3027.967    3.93e+04\n",
      "GarageFinish_RFn       -252.0861   2919.418     -0.086      0.931   -5981.948    5477.776\n",
      "GarageFinish_Unf       -739.4550   3574.195     -0.207      0.836   -7754.431    6275.521\n",
      "PavedDrive_P          -1180.8973   8062.924     -0.146      0.884    -1.7e+04    1.46e+04\n",
      "PavedDrive_Y           2000.6291   4930.893      0.406      0.685   -7677.099    1.17e+04\n",
      "SaleCondition_AdjLand  4477.1138   1.71e+04      0.262      0.793    -2.9e+04     3.8e+04\n",
      "SaleCondition_Alloca   3.326e+04   1.55e+04      2.153      0.032    2939.212    6.36e+04\n",
      "SaleCondition_Family   -965.7101   8437.421     -0.114      0.909   -1.75e+04    1.56e+04\n",
      "SaleCondition_Normal    867.8909   4053.934      0.214      0.831   -7088.654    8824.436\n",
      "SaleCondition_Partial  8084.4116   5656.852      1.429      0.153   -3018.138    1.92e+04\n",
      "==============================================================================\n",
      "Omnibus:                      313.109   Durbin-Watson:                   2.086\n",
      "Prob(Omnibus):                  0.000   Jarque-Bera (JB):            27440.430\n",
      "Skew:                          -0.359   Prob(JB):                         0.00\n",
      "Kurtosis:                      28.375   Cond. No.                     1.01e+16\n",
      "==============================================================================\n",
      "\n",
      "Notes:\n",
      "[1] R² is computed without centering (uncentered) since the model does not contain a constant.\n",
      "[2] Standard Errors assume that the covariance matrix of the errors is correctly specified.\n",
      "[3] The smallest eigenvalue is 1.33e-22. This might indicate that there are\n",
      "strong multicollinearity problems or that the design matrix is singular.\n"
     ]
    }
   ],
   "source": [
    "print(mod.summary())"
   ]
  },
  {
   "cell_type": "code",
   "execution_count": 335,
   "id": "fd8c4991",
   "metadata": {},
   "outputs": [
    {
     "data": {
      "text/plain": [
       "26754.924886102308"
      ]
     },
     "execution_count": 335,
     "metadata": {},
     "output_type": "execute_result"
    }
   ],
   "source": [
    "np.sqrt(mean_squared_error(y_train,mod.predict(X_train)))"
   ]
  },
  {
   "cell_type": "code",
   "execution_count": 336,
   "id": "12927977",
   "metadata": {},
   "outputs": [
    {
     "data": {
      "text/plain": [
       "31310.599525370933"
      ]
     },
     "execution_count": 336,
     "metadata": {},
     "output_type": "execute_result"
    }
   ],
   "source": [
    "np.sqrt(mean_squared_error(y_test,mod.predict(X_test)))"
   ]
  },
  {
   "cell_type": "code",
   "execution_count": 337,
   "id": "90d40e01",
   "metadata": {},
   "outputs": [
    {
     "data": {
      "text/html": [
       "<style>#sk-container-id-54 {color: black;background-color: white;}#sk-container-id-54 pre{padding: 0;}#sk-container-id-54 div.sk-toggleable {background-color: white;}#sk-container-id-54 label.sk-toggleable__label {cursor: pointer;display: block;width: 100%;margin-bottom: 0;padding: 0.3em;box-sizing: border-box;text-align: center;}#sk-container-id-54 label.sk-toggleable__label-arrow:before {content: \"▸\";float: left;margin-right: 0.25em;color: #696969;}#sk-container-id-54 label.sk-toggleable__label-arrow:hover:before {color: black;}#sk-container-id-54 div.sk-estimator:hover label.sk-toggleable__label-arrow:before {color: black;}#sk-container-id-54 div.sk-toggleable__content {max-height: 0;max-width: 0;overflow: hidden;text-align: left;background-color: #f0f8ff;}#sk-container-id-54 div.sk-toggleable__content pre {margin: 0.2em;color: black;border-radius: 0.25em;background-color: #f0f8ff;}#sk-container-id-54 input.sk-toggleable__control:checked~div.sk-toggleable__content {max-height: 200px;max-width: 100%;overflow: auto;}#sk-container-id-54 input.sk-toggleable__control:checked~label.sk-toggleable__label-arrow:before {content: \"▾\";}#sk-container-id-54 div.sk-estimator input.sk-toggleable__control:checked~label.sk-toggleable__label {background-color: #d4ebff;}#sk-container-id-54 div.sk-label input.sk-toggleable__control:checked~label.sk-toggleable__label {background-color: #d4ebff;}#sk-container-id-54 input.sk-hidden--visually {border: 0;clip: rect(1px 1px 1px 1px);clip: rect(1px, 1px, 1px, 1px);height: 1px;margin: -1px;overflow: hidden;padding: 0;position: absolute;width: 1px;}#sk-container-id-54 div.sk-estimator {font-family: monospace;background-color: #f0f8ff;border: 1px dotted black;border-radius: 0.25em;box-sizing: border-box;margin-bottom: 0.5em;}#sk-container-id-54 div.sk-estimator:hover {background-color: #d4ebff;}#sk-container-id-54 div.sk-parallel-item::after {content: \"\";width: 100%;border-bottom: 1px solid gray;flex-grow: 1;}#sk-container-id-54 div.sk-label:hover label.sk-toggleable__label {background-color: #d4ebff;}#sk-container-id-54 div.sk-serial::before {content: \"\";position: absolute;border-left: 1px solid gray;box-sizing: border-box;top: 0;bottom: 0;left: 50%;z-index: 0;}#sk-container-id-54 div.sk-serial {display: flex;flex-direction: column;align-items: center;background-color: white;padding-right: 0.2em;padding-left: 0.2em;position: relative;}#sk-container-id-54 div.sk-item {position: relative;z-index: 1;}#sk-container-id-54 div.sk-parallel {display: flex;align-items: stretch;justify-content: center;background-color: white;position: relative;}#sk-container-id-54 div.sk-item::before, #sk-container-id-54 div.sk-parallel-item::before {content: \"\";position: absolute;border-left: 1px solid gray;box-sizing: border-box;top: 0;bottom: 0;left: 50%;z-index: -1;}#sk-container-id-54 div.sk-parallel-item {display: flex;flex-direction: column;z-index: 1;position: relative;background-color: white;}#sk-container-id-54 div.sk-parallel-item:first-child::after {align-self: flex-end;width: 50%;}#sk-container-id-54 div.sk-parallel-item:last-child::after {align-self: flex-start;width: 50%;}#sk-container-id-54 div.sk-parallel-item:only-child::after {width: 0;}#sk-container-id-54 div.sk-dashed-wrapped {border: 1px dashed gray;margin: 0 0.4em 0.5em 0.4em;box-sizing: border-box;padding-bottom: 0.4em;background-color: white;}#sk-container-id-54 div.sk-label label {font-family: monospace;font-weight: bold;display: inline-block;line-height: 1.2em;}#sk-container-id-54 div.sk-label-container {text-align: center;}#sk-container-id-54 div.sk-container {/* jupyter's `normalize.less` sets `[hidden] { display: none; }` but bootstrap.min.css set `[hidden] { display: none !important; }` so we also need the `!important` here to be able to override the default hidden behavior on the sphinx rendered scikit-learn.org. See: https://github.com/scikit-learn/scikit-learn/issues/21755 */display: inline-block !important;position: relative;}#sk-container-id-54 div.sk-text-repr-fallback {display: none;}</style><div id=\"sk-container-id-54\" class=\"sk-top-container\"><div class=\"sk-text-repr-fallback\"><pre>LinearRegression()</pre><b>In a Jupyter environment, please rerun this cell to show the HTML representation or trust the notebook. <br />On GitHub, the HTML representation is unable to render, please try loading this page with nbviewer.org.</b></div><div class=\"sk-container\" hidden><div class=\"sk-item\"><div class=\"sk-estimator sk-toggleable\"><input class=\"sk-toggleable__control sk-hidden--visually\" id=\"sk-estimator-id-54\" type=\"checkbox\" checked><label for=\"sk-estimator-id-54\" class=\"sk-toggleable__label sk-toggleable__label-arrow\">LinearRegression</label><div class=\"sk-toggleable__content\"><pre>LinearRegression()</pre></div></div></div></div></div>"
      ],
      "text/plain": [
       "LinearRegression()"
      ]
     },
     "execution_count": 337,
     "metadata": {},
     "output_type": "execute_result"
    }
   ],
   "source": [
    "lmod = LinearRegression()\n",
    "lmod.fit(X_train,y_train)"
   ]
  },
  {
   "cell_type": "code",
   "execution_count": 338,
   "id": "47f57256",
   "metadata": {},
   "outputs": [
    {
     "data": {
      "text/plain": [
       "0.8817812071807718"
      ]
     },
     "execution_count": 338,
     "metadata": {},
     "output_type": "execute_result"
    }
   ],
   "source": [
    "lmod.score(X_train,y_train)"
   ]
  },
  {
   "cell_type": "code",
   "execution_count": 339,
   "id": "5e0146c7",
   "metadata": {},
   "outputs": [
    {
     "data": {
      "text/plain": [
       "0.8601395612102566"
      ]
     },
     "execution_count": 339,
     "metadata": {},
     "output_type": "execute_result"
    }
   ],
   "source": [
    "lmod.score(X_test,y_test)"
   ]
  },
  {
   "cell_type": "code",
   "execution_count": 340,
   "id": "d2803022",
   "metadata": {},
   "outputs": [
    {
     "data": {
      "text/plain": [
       "26674.12090974913"
      ]
     },
     "execution_count": 340,
     "metadata": {},
     "output_type": "execute_result"
    }
   ],
   "source": [
    "np.sqrt(mean_squared_error(y_train,lmod.predict(X_train)))"
   ]
  },
  {
   "cell_type": "code",
   "execution_count": 341,
   "id": "9354bba4",
   "metadata": {},
   "outputs": [
    {
     "data": {
      "text/plain": [
       "31240.34659412315"
      ]
     },
     "execution_count": 341,
     "metadata": {},
     "output_type": "execute_result"
    }
   ],
   "source": [
    "np.sqrt(mean_squared_error(y_test,lmod.predict(X_test)))"
   ]
  },
  {
   "cell_type": "code",
   "execution_count": 342,
   "id": "a41acf55",
   "metadata": {},
   "outputs": [],
   "source": [
    "test['SalePrice'] = lmod.predict(test2)\n",
    "test[['Id','SalePrice']].to_csv('final.csv',index=False)"
   ]
  },
  {
   "cell_type": "code",
   "execution_count": 343,
   "id": "9d3cbbfc",
   "metadata": {},
   "outputs": [],
   "source": [
    "from sklearn.tree import DecisionTreeRegressor"
   ]
  },
  {
   "cell_type": "code",
   "execution_count": 344,
   "id": "c1a79230",
   "metadata": {},
   "outputs": [
    {
     "data": {
      "text/html": [
       "<style>#sk-container-id-55 {color: black;background-color: white;}#sk-container-id-55 pre{padding: 0;}#sk-container-id-55 div.sk-toggleable {background-color: white;}#sk-container-id-55 label.sk-toggleable__label {cursor: pointer;display: block;width: 100%;margin-bottom: 0;padding: 0.3em;box-sizing: border-box;text-align: center;}#sk-container-id-55 label.sk-toggleable__label-arrow:before {content: \"▸\";float: left;margin-right: 0.25em;color: #696969;}#sk-container-id-55 label.sk-toggleable__label-arrow:hover:before {color: black;}#sk-container-id-55 div.sk-estimator:hover label.sk-toggleable__label-arrow:before {color: black;}#sk-container-id-55 div.sk-toggleable__content {max-height: 0;max-width: 0;overflow: hidden;text-align: left;background-color: #f0f8ff;}#sk-container-id-55 div.sk-toggleable__content pre {margin: 0.2em;color: black;border-radius: 0.25em;background-color: #f0f8ff;}#sk-container-id-55 input.sk-toggleable__control:checked~div.sk-toggleable__content {max-height: 200px;max-width: 100%;overflow: auto;}#sk-container-id-55 input.sk-toggleable__control:checked~label.sk-toggleable__label-arrow:before {content: \"▾\";}#sk-container-id-55 div.sk-estimator input.sk-toggleable__control:checked~label.sk-toggleable__label {background-color: #d4ebff;}#sk-container-id-55 div.sk-label input.sk-toggleable__control:checked~label.sk-toggleable__label {background-color: #d4ebff;}#sk-container-id-55 input.sk-hidden--visually {border: 0;clip: rect(1px 1px 1px 1px);clip: rect(1px, 1px, 1px, 1px);height: 1px;margin: -1px;overflow: hidden;padding: 0;position: absolute;width: 1px;}#sk-container-id-55 div.sk-estimator {font-family: monospace;background-color: #f0f8ff;border: 1px dotted black;border-radius: 0.25em;box-sizing: border-box;margin-bottom: 0.5em;}#sk-container-id-55 div.sk-estimator:hover {background-color: #d4ebff;}#sk-container-id-55 div.sk-parallel-item::after {content: \"\";width: 100%;border-bottom: 1px solid gray;flex-grow: 1;}#sk-container-id-55 div.sk-label:hover label.sk-toggleable__label {background-color: #d4ebff;}#sk-container-id-55 div.sk-serial::before {content: \"\";position: absolute;border-left: 1px solid gray;box-sizing: border-box;top: 0;bottom: 0;left: 50%;z-index: 0;}#sk-container-id-55 div.sk-serial {display: flex;flex-direction: column;align-items: center;background-color: white;padding-right: 0.2em;padding-left: 0.2em;position: relative;}#sk-container-id-55 div.sk-item {position: relative;z-index: 1;}#sk-container-id-55 div.sk-parallel {display: flex;align-items: stretch;justify-content: center;background-color: white;position: relative;}#sk-container-id-55 div.sk-item::before, #sk-container-id-55 div.sk-parallel-item::before {content: \"\";position: absolute;border-left: 1px solid gray;box-sizing: border-box;top: 0;bottom: 0;left: 50%;z-index: -1;}#sk-container-id-55 div.sk-parallel-item {display: flex;flex-direction: column;z-index: 1;position: relative;background-color: white;}#sk-container-id-55 div.sk-parallel-item:first-child::after {align-self: flex-end;width: 50%;}#sk-container-id-55 div.sk-parallel-item:last-child::after {align-self: flex-start;width: 50%;}#sk-container-id-55 div.sk-parallel-item:only-child::after {width: 0;}#sk-container-id-55 div.sk-dashed-wrapped {border: 1px dashed gray;margin: 0 0.4em 0.5em 0.4em;box-sizing: border-box;padding-bottom: 0.4em;background-color: white;}#sk-container-id-55 div.sk-label label {font-family: monospace;font-weight: bold;display: inline-block;line-height: 1.2em;}#sk-container-id-55 div.sk-label-container {text-align: center;}#sk-container-id-55 div.sk-container {/* jupyter's `normalize.less` sets `[hidden] { display: none; }` but bootstrap.min.css set `[hidden] { display: none !important; }` so we also need the `!important` here to be able to override the default hidden behavior on the sphinx rendered scikit-learn.org. See: https://github.com/scikit-learn/scikit-learn/issues/21755 */display: inline-block !important;position: relative;}#sk-container-id-55 div.sk-text-repr-fallback {display: none;}</style><div id=\"sk-container-id-55\" class=\"sk-top-container\"><div class=\"sk-text-repr-fallback\"><pre>DecisionTreeRegressor(max_depth=9, random_state=42)</pre><b>In a Jupyter environment, please rerun this cell to show the HTML representation or trust the notebook. <br />On GitHub, the HTML representation is unable to render, please try loading this page with nbviewer.org.</b></div><div class=\"sk-container\" hidden><div class=\"sk-item\"><div class=\"sk-estimator sk-toggleable\"><input class=\"sk-toggleable__control sk-hidden--visually\" id=\"sk-estimator-id-55\" type=\"checkbox\" checked><label for=\"sk-estimator-id-55\" class=\"sk-toggleable__label sk-toggleable__label-arrow\">DecisionTreeRegressor</label><div class=\"sk-toggleable__content\"><pre>DecisionTreeRegressor(max_depth=9, random_state=42)</pre></div></div></div></div></div>"
      ],
      "text/plain": [
       "DecisionTreeRegressor(max_depth=9, random_state=42)"
      ]
     },
     "execution_count": 344,
     "metadata": {},
     "output_type": "execute_result"
    }
   ],
   "source": [
    "dt = DecisionTreeRegressor(random_state=42,max_depth=9,min_samples_leaf=1)\n",
    "dt.fit(X_train,y_train)"
   ]
  },
  {
   "cell_type": "code",
   "execution_count": 345,
   "id": "0f127c0d",
   "metadata": {},
   "outputs": [
    {
     "data": {
      "text/plain": [
       "0.9719869423779102"
      ]
     },
     "execution_count": 345,
     "metadata": {},
     "output_type": "execute_result"
    }
   ],
   "source": [
    "dt.score(X_train,y_train)"
   ]
  },
  {
   "cell_type": "code",
   "execution_count": 346,
   "id": "9d9cc600",
   "metadata": {},
   "outputs": [
    {
     "data": {
      "text/plain": [
       "0.8241968333404363"
      ]
     },
     "execution_count": 346,
     "metadata": {},
     "output_type": "execute_result"
    }
   ],
   "source": [
    "dt.score(X_test,y_test)"
   ]
  },
  {
   "cell_type": "code",
   "execution_count": 347,
   "id": "cfad5563",
   "metadata": {},
   "outputs": [
    {
     "data": {
      "text/plain": [
       "12984.556264482066"
      ]
     },
     "execution_count": 347,
     "metadata": {},
     "output_type": "execute_result"
    }
   ],
   "source": [
    "np.sqrt(mean_squared_error(y_train,dt.predict(X_train)))"
   ]
  },
  {
   "cell_type": "code",
   "execution_count": 348,
   "id": "e8e989f1",
   "metadata": {},
   "outputs": [
    {
     "data": {
      "text/plain": [
       "35025.290582955546"
      ]
     },
     "execution_count": 348,
     "metadata": {},
     "output_type": "execute_result"
    }
   ],
   "source": [
    "np.sqrt(mean_squared_error(y_test,dt.predict(X_test)))"
   ]
  },
  {
   "cell_type": "code",
   "execution_count": 349,
   "id": "8fd0ddcf",
   "metadata": {},
   "outputs": [],
   "source": [
    "test['SalePrice'] = dt.predict(test2)\n",
    "test[['Id','SalePrice']].to_csv('final.csv',index=False)"
   ]
  },
  {
   "cell_type": "code",
   "execution_count": 350,
   "id": "e9e0ee47",
   "metadata": {},
   "outputs": [
    {
     "name": "stdout",
     "output_type": "stream",
     "text": [
      "{'ccp_alpha': 0.0, 'criterion': 'squared_error', 'max_depth': 9, 'max_features': None, 'max_leaf_nodes': None, 'min_impurity_decrease': 0.0, 'min_samples_leaf': 1, 'min_samples_split': 2, 'min_weight_fraction_leaf': 0.0, 'random_state': 42, 'splitter': 'best'}\n"
     ]
    }
   ],
   "source": [
    "print(dt.get_params())"
   ]
  },
  {
   "cell_type": "code",
   "execution_count": 351,
   "id": "d93c10af",
   "metadata": {},
   "outputs": [],
   "source": [
    "from sklearn import tree"
   ]
  },
  {
   "cell_type": "code",
   "execution_count": 352,
   "id": "98514f2e",
   "metadata": {},
   "outputs": [
    {
     "data": {
      "text/plain": [
       "180921.19589041095"
      ]
     },
     "execution_count": 352,
     "metadata": {},
     "output_type": "execute_result"
    }
   ],
   "source": [
    "data.SalePrice.mean()"
   ]
  },
  {
   "cell_type": "code",
   "execution_count": 353,
   "id": "f1c626bc",
   "metadata": {},
   "outputs": [],
   "source": [
    "from sklearn.ensemble import GradientBoostingRegressor"
   ]
  },
  {
   "cell_type": "code",
   "execution_count": 354,
   "id": "6b0544be",
   "metadata": {},
   "outputs": [
    {
     "name": "stderr",
     "output_type": "stream",
     "text": [
      "c:\\users\\hp\\appdata\\local\\programs\\python\\python39\\lib\\site-packages\\sklearn\\ensemble\\_gb.py:570: DataConversionWarning: A column-vector y was passed when a 1d array was expected. Please change the shape of y to (n_samples, ), for example using ravel().\n",
      "  y = column_or_1d(y, warn=True)\n"
     ]
    },
    {
     "data": {
      "text/html": [
       "<style>#sk-container-id-56 {color: black;background-color: white;}#sk-container-id-56 pre{padding: 0;}#sk-container-id-56 div.sk-toggleable {background-color: white;}#sk-container-id-56 label.sk-toggleable__label {cursor: pointer;display: block;width: 100%;margin-bottom: 0;padding: 0.3em;box-sizing: border-box;text-align: center;}#sk-container-id-56 label.sk-toggleable__label-arrow:before {content: \"▸\";float: left;margin-right: 0.25em;color: #696969;}#sk-container-id-56 label.sk-toggleable__label-arrow:hover:before {color: black;}#sk-container-id-56 div.sk-estimator:hover label.sk-toggleable__label-arrow:before {color: black;}#sk-container-id-56 div.sk-toggleable__content {max-height: 0;max-width: 0;overflow: hidden;text-align: left;background-color: #f0f8ff;}#sk-container-id-56 div.sk-toggleable__content pre {margin: 0.2em;color: black;border-radius: 0.25em;background-color: #f0f8ff;}#sk-container-id-56 input.sk-toggleable__control:checked~div.sk-toggleable__content {max-height: 200px;max-width: 100%;overflow: auto;}#sk-container-id-56 input.sk-toggleable__control:checked~label.sk-toggleable__label-arrow:before {content: \"▾\";}#sk-container-id-56 div.sk-estimator input.sk-toggleable__control:checked~label.sk-toggleable__label {background-color: #d4ebff;}#sk-container-id-56 div.sk-label input.sk-toggleable__control:checked~label.sk-toggleable__label {background-color: #d4ebff;}#sk-container-id-56 input.sk-hidden--visually {border: 0;clip: rect(1px 1px 1px 1px);clip: rect(1px, 1px, 1px, 1px);height: 1px;margin: -1px;overflow: hidden;padding: 0;position: absolute;width: 1px;}#sk-container-id-56 div.sk-estimator {font-family: monospace;background-color: #f0f8ff;border: 1px dotted black;border-radius: 0.25em;box-sizing: border-box;margin-bottom: 0.5em;}#sk-container-id-56 div.sk-estimator:hover {background-color: #d4ebff;}#sk-container-id-56 div.sk-parallel-item::after {content: \"\";width: 100%;border-bottom: 1px solid gray;flex-grow: 1;}#sk-container-id-56 div.sk-label:hover label.sk-toggleable__label {background-color: #d4ebff;}#sk-container-id-56 div.sk-serial::before {content: \"\";position: absolute;border-left: 1px solid gray;box-sizing: border-box;top: 0;bottom: 0;left: 50%;z-index: 0;}#sk-container-id-56 div.sk-serial {display: flex;flex-direction: column;align-items: center;background-color: white;padding-right: 0.2em;padding-left: 0.2em;position: relative;}#sk-container-id-56 div.sk-item {position: relative;z-index: 1;}#sk-container-id-56 div.sk-parallel {display: flex;align-items: stretch;justify-content: center;background-color: white;position: relative;}#sk-container-id-56 div.sk-item::before, #sk-container-id-56 div.sk-parallel-item::before {content: \"\";position: absolute;border-left: 1px solid gray;box-sizing: border-box;top: 0;bottom: 0;left: 50%;z-index: -1;}#sk-container-id-56 div.sk-parallel-item {display: flex;flex-direction: column;z-index: 1;position: relative;background-color: white;}#sk-container-id-56 div.sk-parallel-item:first-child::after {align-self: flex-end;width: 50%;}#sk-container-id-56 div.sk-parallel-item:last-child::after {align-self: flex-start;width: 50%;}#sk-container-id-56 div.sk-parallel-item:only-child::after {width: 0;}#sk-container-id-56 div.sk-dashed-wrapped {border: 1px dashed gray;margin: 0 0.4em 0.5em 0.4em;box-sizing: border-box;padding-bottom: 0.4em;background-color: white;}#sk-container-id-56 div.sk-label label {font-family: monospace;font-weight: bold;display: inline-block;line-height: 1.2em;}#sk-container-id-56 div.sk-label-container {text-align: center;}#sk-container-id-56 div.sk-container {/* jupyter's `normalize.less` sets `[hidden] { display: none; }` but bootstrap.min.css set `[hidden] { display: none !important; }` so we also need the `!important` here to be able to override the default hidden behavior on the sphinx rendered scikit-learn.org. See: https://github.com/scikit-learn/scikit-learn/issues/21755 */display: inline-block !important;position: relative;}#sk-container-id-56 div.sk-text-repr-fallback {display: none;}</style><div id=\"sk-container-id-56\" class=\"sk-top-container\"><div class=\"sk-text-repr-fallback\"><pre>GradientBoostingRegressor(random_state=42)</pre><b>In a Jupyter environment, please rerun this cell to show the HTML representation or trust the notebook. <br />On GitHub, the HTML representation is unable to render, please try loading this page with nbviewer.org.</b></div><div class=\"sk-container\" hidden><div class=\"sk-item\"><div class=\"sk-estimator sk-toggleable\"><input class=\"sk-toggleable__control sk-hidden--visually\" id=\"sk-estimator-id-56\" type=\"checkbox\" checked><label for=\"sk-estimator-id-56\" class=\"sk-toggleable__label sk-toggleable__label-arrow\">GradientBoostingRegressor</label><div class=\"sk-toggleable__content\"><pre>GradientBoostingRegressor(random_state=42)</pre></div></div></div></div></div>"
      ],
      "text/plain": [
       "GradientBoostingRegressor(random_state=42)"
      ]
     },
     "execution_count": 354,
     "metadata": {},
     "output_type": "execute_result"
    }
   ],
   "source": [
    "gbr = GradientBoostingRegressor(random_state=42,max_depth=3,learning_rate=0.1)\n",
    "gbr.fit(X_train,y_train)"
   ]
  },
  {
   "cell_type": "code",
   "execution_count": 355,
   "id": "f120994d",
   "metadata": {},
   "outputs": [
    {
     "data": {
      "text/plain": [
       "0.9649670590043902"
      ]
     },
     "execution_count": 355,
     "metadata": {},
     "output_type": "execute_result"
    }
   ],
   "source": [
    "gbr.score(X_train,y_train)"
   ]
  },
  {
   "cell_type": "code",
   "execution_count": 356,
   "id": "c2041979",
   "metadata": {},
   "outputs": [
    {
     "data": {
      "text/plain": [
       "0.9092015827350863"
      ]
     },
     "execution_count": 356,
     "metadata": {},
     "output_type": "execute_result"
    }
   ],
   "source": [
    "gbr.score(X_test,y_test)"
   ]
  },
  {
   "cell_type": "code",
   "execution_count": 357,
   "id": "ab86a1af",
   "metadata": {},
   "outputs": [],
   "source": [
    "test['SalePrice'] = gbr.predict(test2)\n",
    "test[['Id','SalePrice']].to_csv('final.csv',index=False)"
   ]
  },
  {
   "cell_type": "code",
   "execution_count": 358,
   "id": "963f0dc8",
   "metadata": {},
   "outputs": [],
   "source": [
    "from sklearn.ensemble import RandomForestRegressor"
   ]
  },
  {
   "cell_type": "code",
   "execution_count": 393,
   "id": "df9d2012",
   "metadata": {},
   "outputs": [
    {
     "name": "stderr",
     "output_type": "stream",
     "text": [
      "<ipython-input-393-212100794121>:2: DataConversionWarning: A column-vector y was passed when a 1d array was expected. Please change the shape of y to (n_samples,), for example using ravel().\n",
      "  rf.fit(X_train,y_train)\n"
     ]
    },
    {
     "data": {
      "text/html": [
       "<style>#sk-container-id-68 {color: black;background-color: white;}#sk-container-id-68 pre{padding: 0;}#sk-container-id-68 div.sk-toggleable {background-color: white;}#sk-container-id-68 label.sk-toggleable__label {cursor: pointer;display: block;width: 100%;margin-bottom: 0;padding: 0.3em;box-sizing: border-box;text-align: center;}#sk-container-id-68 label.sk-toggleable__label-arrow:before {content: \"▸\";float: left;margin-right: 0.25em;color: #696969;}#sk-container-id-68 label.sk-toggleable__label-arrow:hover:before {color: black;}#sk-container-id-68 div.sk-estimator:hover label.sk-toggleable__label-arrow:before {color: black;}#sk-container-id-68 div.sk-toggleable__content {max-height: 0;max-width: 0;overflow: hidden;text-align: left;background-color: #f0f8ff;}#sk-container-id-68 div.sk-toggleable__content pre {margin: 0.2em;color: black;border-radius: 0.25em;background-color: #f0f8ff;}#sk-container-id-68 input.sk-toggleable__control:checked~div.sk-toggleable__content {max-height: 200px;max-width: 100%;overflow: auto;}#sk-container-id-68 input.sk-toggleable__control:checked~label.sk-toggleable__label-arrow:before {content: \"▾\";}#sk-container-id-68 div.sk-estimator input.sk-toggleable__control:checked~label.sk-toggleable__label {background-color: #d4ebff;}#sk-container-id-68 div.sk-label input.sk-toggleable__control:checked~label.sk-toggleable__label {background-color: #d4ebff;}#sk-container-id-68 input.sk-hidden--visually {border: 0;clip: rect(1px 1px 1px 1px);clip: rect(1px, 1px, 1px, 1px);height: 1px;margin: -1px;overflow: hidden;padding: 0;position: absolute;width: 1px;}#sk-container-id-68 div.sk-estimator {font-family: monospace;background-color: #f0f8ff;border: 1px dotted black;border-radius: 0.25em;box-sizing: border-box;margin-bottom: 0.5em;}#sk-container-id-68 div.sk-estimator:hover {background-color: #d4ebff;}#sk-container-id-68 div.sk-parallel-item::after {content: \"\";width: 100%;border-bottom: 1px solid gray;flex-grow: 1;}#sk-container-id-68 div.sk-label:hover label.sk-toggleable__label {background-color: #d4ebff;}#sk-container-id-68 div.sk-serial::before {content: \"\";position: absolute;border-left: 1px solid gray;box-sizing: border-box;top: 0;bottom: 0;left: 50%;z-index: 0;}#sk-container-id-68 div.sk-serial {display: flex;flex-direction: column;align-items: center;background-color: white;padding-right: 0.2em;padding-left: 0.2em;position: relative;}#sk-container-id-68 div.sk-item {position: relative;z-index: 1;}#sk-container-id-68 div.sk-parallel {display: flex;align-items: stretch;justify-content: center;background-color: white;position: relative;}#sk-container-id-68 div.sk-item::before, #sk-container-id-68 div.sk-parallel-item::before {content: \"\";position: absolute;border-left: 1px solid gray;box-sizing: border-box;top: 0;bottom: 0;left: 50%;z-index: -1;}#sk-container-id-68 div.sk-parallel-item {display: flex;flex-direction: column;z-index: 1;position: relative;background-color: white;}#sk-container-id-68 div.sk-parallel-item:first-child::after {align-self: flex-end;width: 50%;}#sk-container-id-68 div.sk-parallel-item:last-child::after {align-self: flex-start;width: 50%;}#sk-container-id-68 div.sk-parallel-item:only-child::after {width: 0;}#sk-container-id-68 div.sk-dashed-wrapped {border: 1px dashed gray;margin: 0 0.4em 0.5em 0.4em;box-sizing: border-box;padding-bottom: 0.4em;background-color: white;}#sk-container-id-68 div.sk-label label {font-family: monospace;font-weight: bold;display: inline-block;line-height: 1.2em;}#sk-container-id-68 div.sk-label-container {text-align: center;}#sk-container-id-68 div.sk-container {/* jupyter's `normalize.less` sets `[hidden] { display: none; }` but bootstrap.min.css set `[hidden] { display: none !important; }` so we also need the `!important` here to be able to override the default hidden behavior on the sphinx rendered scikit-learn.org. See: https://github.com/scikit-learn/scikit-learn/issues/21755 */display: inline-block !important;position: relative;}#sk-container-id-68 div.sk-text-repr-fallback {display: none;}</style><div id=\"sk-container-id-68\" class=\"sk-top-container\"><div class=\"sk-text-repr-fallback\"><pre>RandomForestRegressor(max_depth=8, n_estimators=60, random_state=42)</pre><b>In a Jupyter environment, please rerun this cell to show the HTML representation or trust the notebook. <br />On GitHub, the HTML representation is unable to render, please try loading this page with nbviewer.org.</b></div><div class=\"sk-container\" hidden><div class=\"sk-item\"><div class=\"sk-estimator sk-toggleable\"><input class=\"sk-toggleable__control sk-hidden--visually\" id=\"sk-estimator-id-68\" type=\"checkbox\" checked><label for=\"sk-estimator-id-68\" class=\"sk-toggleable__label sk-toggleable__label-arrow\">RandomForestRegressor</label><div class=\"sk-toggleable__content\"><pre>RandomForestRegressor(max_depth=8, n_estimators=60, random_state=42)</pre></div></div></div></div></div>"
      ],
      "text/plain": [
       "RandomForestRegressor(max_depth=8, n_estimators=60, random_state=42)"
      ]
     },
     "execution_count": 393,
     "metadata": {},
     "output_type": "execute_result"
    }
   ],
   "source": [
    "rf = RandomForestRegressor(n_estimators=60,max_depth=8,random_state=42)\n",
    "rf.fit(X_train,y_train)"
   ]
  },
  {
   "cell_type": "code",
   "execution_count": 394,
   "id": "b338999c",
   "metadata": {},
   "outputs": [
    {
     "data": {
      "text/plain": [
       "0.9621264971304294"
      ]
     },
     "execution_count": 394,
     "metadata": {},
     "output_type": "execute_result"
    }
   ],
   "source": [
    "rf.score(X_train,y_train)"
   ]
  },
  {
   "cell_type": "code",
   "execution_count": 395,
   "id": "fb1e9573",
   "metadata": {},
   "outputs": [
    {
     "data": {
      "text/plain": [
       "0.9038208775491661"
      ]
     },
     "execution_count": 395,
     "metadata": {},
     "output_type": "execute_result"
    }
   ],
   "source": [
    "rf.score(X_test,y_test)"
   ]
  },
  {
   "cell_type": "code",
   "execution_count": 396,
   "id": "fad68823",
   "metadata": {},
   "outputs": [],
   "source": [
    "test['SalePrice'] = rf.predict(test2)\n",
    "test[['Id','SalePrice']].to_csv('final.csv',index=False)"
   ]
  },
  {
   "cell_type": "code",
   "execution_count": 397,
   "id": "a991da19",
   "metadata": {},
   "outputs": [],
   "source": [
    "#multicollinear"
   ]
  },
  {
   "cell_type": "code",
   "execution_count": 398,
   "id": "6c7fb629",
   "metadata": {},
   "outputs": [],
   "source": [
    "from statsmodels.stats.outliers_influence import variance_inflation_factor as vif"
   ]
  },
  {
   "cell_type": "code",
   "execution_count": 408,
   "id": "221b27e2",
   "metadata": {},
   "outputs": [
    {
     "name": "stdout",
     "output_type": "stream",
     "text": [
      "Condition1_RRNe        1.140582e+00\n",
      "Exterior1st_ImStucc    1.150799e+00\n",
      "Foundation_Wood        1.161511e+00\n",
      "Exterior1st_AsphShn    1.181341e+00\n",
      "Foundation_Stone       1.222396e+00\n",
      "                           ...     \n",
      "GrLivArea              1.612381e+03\n",
      "YearRemodAdd           2.316342e+04\n",
      "YearBuilt              2.351623e+04\n",
      "GarageType_None                 inf\n",
      "GarageFinish_None               inf\n",
      "Length: 147, dtype: float64\n"
     ]
    }
   ],
   "source": [
    "print(pd.Series([vif(data1.drop('SalePrice',axis=1),i) for i in range(X.shape[1])],index=X.columns).idxmax())"
   ]
  },
  {
   "cell_type": "code",
   "execution_count": 472,
   "id": "935d9cdf",
   "metadata": {},
   "outputs": [],
   "source": [
    "x = data1.drop('SalePrice',axis=1)\n",
    "Y = data1['SalePrice']"
   ]
  },
  {
   "cell_type": "code",
   "execution_count": 473,
   "id": "e53130d8",
   "metadata": {},
   "outputs": [],
   "source": [
    "def get_max(temp,l):\n",
    "#     temp = temp.reset_index()\n",
    "    temp = temp.sort_values(ascending = False).reset_index()\n",
    "    j = 0\n",
    "    while True:\n",
    "        if temp['index'][j] in l:\n",
    "            j += 1\n",
    "            continue\n",
    "        else:\n",
    "            return temp['index'][j], temp[0][j]"
   ]
  },
  {
   "cell_type": "code",
   "execution_count": 475,
   "id": "b2204d27",
   "metadata": {},
   "outputs": [
    {
     "name": "stdout",
     "output_type": "stream",
     "text": [
      "Cycle : 1 , col: GarageType_None max: inf , diff: 0.0\n",
      "Cycle : 2 , col: YearBuilt max: 23516.226206715797 , diff: 1.1849977228362008e-06\n",
      "Cycle : 3 , col: YearRemodAdd max: 2283.3774264584094 , diff: 9.649405087297502e-06\n",
      "Cycle : 4 , col: GrLivArea max: 1600.1108338004028 , diff: 6.302472964958561e-05\n",
      "Cycle : 5 , col: ExterCond_TA max: 370.5732328133995 , diff: 4.3045916115369565e-05\n",
      "Cycle : 6 , col: Street_Pave max: 304.3052842376179 , diff: 9.851720874642922e-07\n",
      "Cycle : 7 , col: MSZoning_RL max: 169.40157933814598 , diff: 4.414310684264233e-05\n",
      "Cycle : 8 , col: GarageType_Attchd max: 140.21000185964857 , diff: 4.063281274835351e-05\n",
      "Cycle : 9 , col: RoofStyle_Gable max: 105.0754576647824 , diff: 7.176944317954792e-06\n",
      "Cycle : 10 , col: 1stFlrSF max: 95.4218389656394 , diff: 0.0006636326571205498\n",
      "Cycle : 11 , col: OverallQual max: 87.54042592498735 , diff: 0.0011156310681262882\n",
      "Cycle : 12 , col: TotRmsAbvGrd max: 60.98928001711393 , diff: 0.00041278887235918216\n",
      "Cycle : 13 , col: GarageCars max: 45.86903803512407 , diff: 0.0005412141107208335\n",
      "Cycle : 14 , col: OverallCond max: 45.78307064378458 , diff: 0.0010479899704343154\n",
      "Cycle : 15 , col: FireplaceQu_None max: 42.55936754820434 , diff: 1.5690600488671436e-05\n",
      "Cycle : 16 , col: ExterQual_TA max: 40.46410431281275 , diff: 0.00010604813315850947\n",
      "Cycle : 17 , col: MasVnrType_None max: 37.28894871768607 , diff: 0.0001419469061445522\n",
      "Cycle : 18 , col: BsmtCond_TA max: 31.291074754478846 , diff: 0.00019560479261515606\n",
      "Cycle : 19 , col: Condition1_Norm max: 30.67021167915118 , diff: 0.00022346037605214253\n",
      "Cycle : 20 , col: FullBath max: 27.953990653938163 , diff: 0.0008441907721092878\n",
      "Cycle : 21 , col: Exterior1st_VinylSd max: 27.07276645565444 , diff: 0.0005213964644998903\n",
      "Cycle : 22 , col: LandContour_Lvl max: 25.696424087447355 , diff: 0.0006608384262130063\n",
      "Cycle : 23 , col: CentralAir_Y max: 24.970358170814126 , diff: 0.000637624466877873\n",
      "Cycle : 24 , col: PavedDrive_Y max: 23.06485976229855 , diff: 0.00039615795990533\n",
      "Cycle : 25 , col: TotalBsmtSF max: 21.978486871721252 , diff: 0.004528446114413387\n",
      "Cycle : 26 , col: KitchenQual_TA max: 15.847280761779537 , diff: 0.0007088718987799947\n",
      "Cycle : 27 , col: GarageArea max: 15.335862532617806 , diff: 0.0036124549835956365\n",
      "Cycle : 28 , col: SaleCondition_Normal max: 13.415144009724965 , diff: 0.0009533353692737778\n",
      "Cycle : 29 , col: BsmtQual_TA max: 12.776786345064945 , diff: 0.00023855885982349\n",
      "Cycle : 30 , col: 2ndFlrSF max: 12.14155587385961 , diff: 0.0038366782202300387\n",
      "Cycle : 31 , col: Foundation_PConc max: 10.702044166747852 , diff: 0.0011502492798285413\n",
      "Cycle : 32 , col: Fireplaces max: 9.55216346958558 , diff: 0.0016081650459630614\n",
      "Cycle : 33 , col: Neighborhood_NAmes max: 7.435707300745126 , diff: 0.006543067812110892\n",
      "Cycle : 34 , col: BsmtExposure_No max: 6.237399662905951 , diff: 0.0008895931016865699\n",
      "Cycle : 35 , col: Neighborhood_Somerst max: 5.994975850053005 , diff: 0.002602871764114556\n",
      "Cycle : 36 , col: BsmtFinSF1 max: 5.731459269576351 , diff: 0.004116056095160858\n",
      "Cycle : 37 , col: GarageFinish_Unf max: 5.211724419290387 , diff: 0.0005273897049733467\n"
     ]
    }
   ],
   "source": [
    "l = []\n",
    "i = 0\n",
    "while True:\n",
    "    temp = pd.Series([vif(x,i) for i in range(x.shape[1])],index=x.columns)\n",
    "    res1 = sm.OLS(Y,x)\n",
    "    mod1 = res1.fit()\n",
    "    a = mod1.rsquared\n",
    "    col,m = get_max(temp, l)\n",
    "    if m < 5:\n",
    "        break\n",
    "    x1 = x.drop(col,axis=1)\n",
    "    res2 = sm.OLS(Y,x1)\n",
    "    mod2 = res2.fit()\n",
    "    b = mod2.rsquared\n",
    "    i+=1\n",
    "    print(\"Cycle :\",i,\", col:\",col,\"max:\",m,\", diff:\",a-b)\n",
    "    if (a-b) > -0.05 and (a-b) < 0.05:\n",
    "        x = x.drop(col,axis=1)\n",
    "    else:\n",
    "        l.append(col)"
   ]
  },
  {
   "cell_type": "code",
   "execution_count": 476,
   "id": "666946ce",
   "metadata": {},
   "outputs": [
    {
     "data": {
      "text/plain": [
       "[]"
      ]
     },
     "execution_count": 476,
     "metadata": {},
     "output_type": "execute_result"
    }
   ],
   "source": [
    "l"
   ]
  },
  {
   "cell_type": "code",
   "execution_count": 477,
   "id": "a3e2da93",
   "metadata": {},
   "outputs": [
    {
     "data": {
      "text/plain": [
       "(1460, 148)"
      ]
     },
     "execution_count": 477,
     "metadata": {},
     "output_type": "execute_result"
    }
   ],
   "source": [
    "data1.shape"
   ]
  },
  {
   "cell_type": "code",
   "execution_count": 478,
   "id": "49991450",
   "metadata": {},
   "outputs": [
    {
     "data": {
      "text/plain": [
       "(1460, 110)"
      ]
     },
     "execution_count": 478,
     "metadata": {},
     "output_type": "execute_result"
    }
   ],
   "source": [
    "x.shape"
   ]
  },
  {
   "cell_type": "code",
   "execution_count": 479,
   "id": "e7d543b4",
   "metadata": {},
   "outputs": [
    {
     "data": {
      "text/plain": [
       "(1460, 1)"
      ]
     },
     "execution_count": 479,
     "metadata": {},
     "output_type": "execute_result"
    }
   ],
   "source": [
    "y.shape"
   ]
  },
  {
   "cell_type": "code",
   "execution_count": 481,
   "id": "85a7977f",
   "metadata": {},
   "outputs": [
    {
     "name": "stdout",
     "output_type": "stream",
     "text": [
      "                                 OLS Regression Results                                \n",
      "=======================================================================================\n",
      "Dep. Variable:              SalePrice   R-squared (uncentered):                   0.942\n",
      "Model:                            OLS   Adj. R-squared (uncentered):              0.937\n",
      "Method:                 Least Squares   F-statistic:                              199.3\n",
      "Date:                Wed, 01 Feb 2023   Prob (F-statistic):                        0.00\n",
      "Time:                        13:55:18   Log-Likelihood:                         -17796.\n",
      "No. Observations:                1460   AIC:                                  3.581e+04\n",
      "Df Residuals:                    1350   BIC:                                  3.639e+04\n",
      "Df Model:                         110                                                  \n",
      "Covariance Type:            nonrobust                                                  \n",
      "=========================================================================================\n",
      "                            coef    std err          t      P>|t|      [0.025      0.975]\n",
      "-----------------------------------------------------------------------------------------\n",
      "BsmtFullBath           1.987e+04   3250.532      6.112      0.000    1.35e+04    2.62e+04\n",
      "HalfBath                1.97e+04   3835.334      5.137      0.000    1.22e+04    2.72e+04\n",
      "MSSubClass_30         -6092.6217   8665.502     -0.703      0.482   -2.31e+04    1.09e+04\n",
      "MSSubClass_40          8734.5373   2.76e+04      0.317      0.751   -4.53e+04    6.28e+04\n",
      "MSSubClass_45          5729.6046   1.63e+04      0.352      0.725   -2.62e+04    3.76e+04\n",
      "MSSubClass_50          1.448e+04   6590.439      2.197      0.028    1548.842    2.74e+04\n",
      "MSSubClass_60          1.752e+04   5464.481      3.205      0.001    6796.589    2.82e+04\n",
      "MSSubClass_70          2.118e+04   9332.485      2.269      0.023    2868.479    3.95e+04\n",
      "MSSubClass_75          5.685e+04   1.43e+04      3.984      0.000    2.89e+04    8.48e+04\n",
      "MSSubClass_80          2503.4858   7365.906      0.340      0.734   -1.19e+04     1.7e+04\n",
      "MSSubClass_85         -3193.0967   1.18e+04     -0.272      0.786   -2.63e+04    1.99e+04\n",
      "MSSubClass_90         -4169.1726   8888.251     -0.469      0.639   -2.16e+04    1.33e+04\n",
      "MSSubClass_120        -3.229e+04   6902.838     -4.678      0.000   -4.58e+04   -1.87e+04\n",
      "MSSubClass_160        -6.057e+04   1.08e+04     -5.588      0.000   -8.18e+04   -3.93e+04\n",
      "MSSubClass_180        -7.241e+04   2.13e+04     -3.406      0.001   -1.14e+05   -3.07e+04\n",
      "MSSubClass_190         3446.2459   1.08e+04      0.320      0.749   -1.77e+04    2.46e+04\n",
      "MSZoning_FV            7.718e+04   8702.684      8.869      0.000    6.01e+04    9.43e+04\n",
      "MSZoning_RH            1.558e+04   1.37e+04      1.136      0.256   -1.13e+04    4.25e+04\n",
      "MSZoning_RM            2567.4372   7016.054      0.366      0.714   -1.12e+04    1.63e+04\n",
      "LandContour_HLS        9360.9729   8011.048      1.169      0.243   -6354.481    2.51e+04\n",
      "LandContour_Low       -1.221e+04   9922.355     -1.231      0.219   -3.17e+04    7253.367\n",
      "Neighborhood_Blueste   7.843e+04   3.77e+04      2.078      0.038    4403.837    1.52e+05\n",
      "Neighborhood_BrDale    4.429e+04   1.76e+04      2.522      0.012    9845.254    7.87e+04\n",
      "Neighborhood_BrkSide   1.775e+04   9980.299      1.778      0.076   -1829.529    3.73e+04\n",
      "Neighborhood_ClearCr   5.283e+04   1.14e+04      4.654      0.000    3.06e+04    7.51e+04\n",
      "Neighborhood_CollgCr   6.267e+04   6049.386     10.360      0.000    5.08e+04    7.45e+04\n",
      "Neighborhood_Crawfor   4.578e+04   9165.166      4.995      0.000    2.78e+04    6.38e+04\n",
      "Neighborhood_Edwards   1.984e+04   6587.135      3.012      0.003    6918.541    3.28e+04\n",
      "Neighborhood_Gilbert   4.293e+04   7890.394      5.440      0.000    2.74e+04    5.84e+04\n",
      "Neighborhood_IDOTRR   -1038.7829   1.19e+04     -0.087      0.931   -2.45e+04    2.24e+04\n",
      "Neighborhood_MeadowV   1.787e+04   1.94e+04      0.923      0.356   -2.01e+04    5.59e+04\n",
      "Neighborhood_Mitchel   5.884e+04   7989.217      7.365      0.000    4.32e+04    7.45e+04\n",
      "Neighborhood_NPkVill    1.12e+05   1.93e+04      5.795      0.000    7.41e+04     1.5e+05\n",
      "Neighborhood_NWAmes    4.066e+04   7426.831      5.474      0.000    2.61e+04    5.52e+04\n",
      "Neighborhood_NoRidge   1.389e+05   1.01e+04     13.719      0.000    1.19e+05    1.59e+05\n",
      "Neighborhood_NridgHt   1.293e+05   7665.432     16.865      0.000    1.14e+05    1.44e+05\n",
      "Neighborhood_OldTown   1.632e+04   9707.029      1.681      0.093   -2722.174    3.54e+04\n",
      "Neighborhood_SWISU     2.868e+04   1.24e+04      2.320      0.020    4432.989    5.29e+04\n",
      "Neighborhood_Sawyer    2.527e+04   6903.186      3.661      0.000    1.17e+04    3.88e+04\n",
      "Neighborhood_SawyerW   5.235e+04   8368.173      6.255      0.000    3.59e+04    6.88e+04\n",
      "Neighborhood_StoneBr   1.339e+05   1.17e+04     11.451      0.000    1.11e+05    1.57e+05\n",
      "Neighborhood_Timber      5.6e+04   9370.195      5.977      0.000    3.76e+04    7.44e+04\n",
      "Neighborhood_Veenker   6.349e+04   1.63e+04      3.900      0.000    3.15e+04    9.54e+04\n",
      "Condition1_Feedr      -6873.4232   6051.964     -1.136      0.256   -1.87e+04    4998.853\n",
      "Condition1_PosA        2.297e+04   1.83e+04      1.252      0.211    -1.3e+04    5.89e+04\n",
      "Condition1_PosN        8431.0064   1.19e+04      0.710      0.478   -1.49e+04    3.17e+04\n",
      "Condition1_RRAe       -1.046e+04   1.68e+04     -0.621      0.535   -4.35e+04    2.26e+04\n",
      "Condition1_RRAn        2.327e+04   1.05e+04      2.215      0.027    2662.912    4.39e+04\n",
      "Condition1_RRNe        1107.4451   3.63e+04      0.031      0.976   -7.01e+04    7.23e+04\n",
      "Condition1_RRNn        4.769e+04   2.32e+04      2.053      0.040    2130.301    9.33e+04\n",
      "RoofStyle_Gambrel      4993.2363   1.61e+04      0.311      0.756   -2.65e+04    3.65e+04\n",
      "RoofStyle_Hip          2.748e+04   3720.076      7.386      0.000    2.02e+04    3.48e+04\n",
      "RoofStyle_Mansard     -2989.7585   2.02e+04     -0.148      0.882   -4.26e+04    3.66e+04\n",
      "RoofStyle_Shed        -1.004e+04   3.95e+04     -0.254      0.799   -8.75e+04    6.74e+04\n",
      "Exterior1st_AsphShn    3.638e+04   5.11e+04      0.712      0.477   -6.38e+04    1.37e+05\n",
      "Exterior1st_BrkComm   -8567.6807   3.68e+04     -0.233      0.816   -8.08e+04    6.36e+04\n",
      "Exterior1st_BrkFace    6.209e+04   8233.966      7.540      0.000    4.59e+04    7.82e+04\n",
      "Exterior1st_CBlock     8.623e+04   5.32e+04      1.622      0.105    -1.8e+04    1.91e+05\n",
      "Exterior1st_CemntBd    5.168e+04   8304.957      6.223      0.000    3.54e+04     6.8e+04\n",
      "Exterior1st_HdBoard    8725.3602   5021.439      1.738      0.083   -1125.311    1.86e+04\n",
      "Exterior1st_ImStucc    -271.5303   5.13e+04     -0.005      0.996   -1.01e+05       1e+05\n",
      "Exterior1st_MetalSd    1.831e+04   4885.873      3.747      0.000    8722.723    2.79e+04\n",
      "Exterior1st_Plywood    1.986e+04   6835.857      2.905      0.004    6446.929    3.33e+04\n",
      "Exterior1st_Stone      1.279e+05   3.59e+04      3.567      0.000    5.76e+04    1.98e+05\n",
      "Exterior1st_Stucco     2.281e+04   1.14e+04      2.006      0.045     504.000    4.51e+04\n",
      "Exterior1st_Wd Sdng    2.097e+04   5061.808      4.143      0.000     1.1e+04    3.09e+04\n",
      "Exterior1st_WdShing    6399.2228   1.08e+04      0.591      0.555   -1.48e+04    2.76e+04\n",
      "MasVnrType_BrkFace      2.31e+04   3622.659      6.377      0.000     1.6e+04    3.02e+04\n",
      "MasVnrType_Stone       4.334e+04   5810.011      7.459      0.000    3.19e+04    5.47e+04\n",
      "ExterQual_Fa          -2.438e+04   1.69e+04     -1.445      0.149   -5.75e+04    8720.079\n",
      "ExterQual_Gd           2.261e+04   4391.767      5.147      0.000     1.4e+04    3.12e+04\n",
      "ExterCond_Fa          -7952.1066   1.13e+04     -0.703      0.482   -3.01e+04    1.42e+04\n",
      "ExterCond_Gd           1.446e+04   4692.194      3.082      0.002    5254.873    2.37e+04\n",
      "ExterCond_Po          -1.984e+04   5.14e+04     -0.386      0.700   -1.21e+05    8.11e+04\n",
      "Foundation_CBlock      1.934e+04   3916.636      4.937      0.000    1.17e+04     2.7e+04\n",
      "Foundation_Slab        5.086e+04    1.2e+04      4.237      0.000    2.73e+04    7.44e+04\n",
      "Foundation_Stone           3e+04   2.15e+04      1.398      0.162   -1.21e+04    7.21e+04\n",
      "Foundation_Wood        2.602e+04      3e+04      0.869      0.385   -3.27e+04    8.48e+04\n",
      "BsmtQual_Fa           -3907.8061   9643.612     -0.405      0.685   -2.28e+04     1.5e+04\n",
      "BsmtQual_Gd             309.6639   3937.111      0.079      0.937   -7413.857    8033.184\n",
      "BsmtCond_Gd            8584.9845   6635.531      1.294      0.196   -4432.087    2.16e+04\n",
      "BsmtCond_Po           -2.625e+04   3.92e+04     -0.669      0.504   -1.03e+05    5.07e+04\n",
      "BsmtExposure_Gd        4.781e+04   5338.690      8.956      0.000    3.73e+04    5.83e+04\n",
      "BsmtExposure_Mn        8493.3771   5039.306      1.685      0.092   -1392.345    1.84e+04\n",
      "BsmtFinType1_BLQ       3.657e+04   5236.683      6.984      0.000    2.63e+04    4.68e+04\n",
      "BsmtFinType1_GLQ       4.965e+04   4702.968     10.557      0.000    4.04e+04    5.89e+04\n",
      "BsmtFinType1_LwQ       3.204e+04   6842.878      4.683      0.000    1.86e+04    4.55e+04\n",
      "BsmtFinType1_Rec       3.467e+04   5605.183      6.185      0.000    2.37e+04    4.57e+04\n",
      "BsmtFinType1_Unf       4.272e+04   4505.306      9.483      0.000    3.39e+04    5.16e+04\n",
      "HeatingQC_Fa          -1821.2059   8233.850     -0.221      0.825    -1.8e+04    1.43e+04\n",
      "HeatingQC_Gd           5832.3096   4169.556      1.399      0.162   -2347.203     1.4e+04\n",
      "HeatingQC_Po           3633.8056   5.55e+04      0.066      0.948   -1.05e+05    1.12e+05\n",
      "HeatingQC_TA           1715.7016   4012.250      0.428      0.669   -6155.220    9586.623\n",
      "KitchenQual_Fa         2241.2657   9516.022      0.236      0.814   -1.64e+04    2.09e+04\n",
      "KitchenQual_Gd         1.105e+04   3687.455      2.997      0.003    3817.168    1.83e+04\n",
      "FireplaceQu_Fa         1.718e+04   9344.524      1.838      0.066   -1152.854    3.55e+04\n",
      "FireplaceQu_Gd         2.849e+04   3853.778      7.392      0.000    2.09e+04     3.6e+04\n",
      "FireplaceQu_Po         2.613e+04   1.15e+04      2.267      0.024    3518.090    4.87e+04\n",
      "FireplaceQu_TA         2.453e+04   4188.478      5.855      0.000    1.63e+04    3.27e+04\n",
      "GarageType_Basment     1.273e+04   1.29e+04      0.984      0.325   -1.26e+04    3.81e+04\n",
      "GarageType_BuiltIn     1.373e+04   6310.496      2.176      0.030    1350.411    2.61e+04\n",
      "GarageType_CarPort     -1.64e+04    1.8e+04     -0.910      0.363   -5.18e+04     1.9e+04\n",
      "GarageType_Detchd      1.235e+04   4300.070      2.873      0.004    3916.632    2.08e+04\n",
      "GarageFinish_None      -584.9349   7235.698     -0.081      0.936   -1.48e+04    1.36e+04\n",
      "GarageFinish_RFn       2722.7652   3316.350      0.821      0.412   -3782.993    9228.524\n",
      "PavedDrive_P          -1.943e+04   9808.822     -1.981      0.048   -3.87e+04    -191.062\n",
      "SaleCondition_AdjLand  1.322e+04   2.67e+04      0.495      0.621   -3.92e+04    6.56e+04\n",
      "SaleCondition_Alloca  -8432.9178    1.6e+04     -0.528      0.597   -3.97e+04    2.29e+04\n",
      "SaleCondition_Family  -2741.4955   1.15e+04     -0.238      0.812   -2.53e+04    1.99e+04\n",
      "SaleCondition_Partial  4.043e+04   5499.986      7.352      0.000    2.96e+04    5.12e+04\n",
      "==============================================================================\n",
      "Omnibus:                      527.706   Durbin-Watson:                   1.988\n",
      "Prob(Omnibus):                  0.000   Jarque-Bera (JB):             6433.743\n",
      "Skew:                           1.328   Prob(JB):                         0.00\n",
      "Kurtosis:                      12.935   Cond. No.                         64.3\n",
      "==============================================================================\n",
      "\n",
      "Notes:\n",
      "[1] R² is computed without centering (uncentered) since the model does not contain a constant.\n",
      "[2] Standard Errors assume that the covariance matrix of the errors is correctly specified.\n"
     ]
    }
   ],
   "source": [
    "mod = sm.OLS(y,x)\n",
    "res = mod.fit()\n",
    "print(res.summary())"
   ]
  },
  {
   "cell_type": "code",
   "execution_count": 482,
   "id": "8539a232",
   "metadata": {},
   "outputs": [
    {
     "data": {
      "text/html": [
       "<style>#sk-container-id-69 {color: black;background-color: white;}#sk-container-id-69 pre{padding: 0;}#sk-container-id-69 div.sk-toggleable {background-color: white;}#sk-container-id-69 label.sk-toggleable__label {cursor: pointer;display: block;width: 100%;margin-bottom: 0;padding: 0.3em;box-sizing: border-box;text-align: center;}#sk-container-id-69 label.sk-toggleable__label-arrow:before {content: \"▸\";float: left;margin-right: 0.25em;color: #696969;}#sk-container-id-69 label.sk-toggleable__label-arrow:hover:before {color: black;}#sk-container-id-69 div.sk-estimator:hover label.sk-toggleable__label-arrow:before {color: black;}#sk-container-id-69 div.sk-toggleable__content {max-height: 0;max-width: 0;overflow: hidden;text-align: left;background-color: #f0f8ff;}#sk-container-id-69 div.sk-toggleable__content pre {margin: 0.2em;color: black;border-radius: 0.25em;background-color: #f0f8ff;}#sk-container-id-69 input.sk-toggleable__control:checked~div.sk-toggleable__content {max-height: 200px;max-width: 100%;overflow: auto;}#sk-container-id-69 input.sk-toggleable__control:checked~label.sk-toggleable__label-arrow:before {content: \"▾\";}#sk-container-id-69 div.sk-estimator input.sk-toggleable__control:checked~label.sk-toggleable__label {background-color: #d4ebff;}#sk-container-id-69 div.sk-label input.sk-toggleable__control:checked~label.sk-toggleable__label {background-color: #d4ebff;}#sk-container-id-69 input.sk-hidden--visually {border: 0;clip: rect(1px 1px 1px 1px);clip: rect(1px, 1px, 1px, 1px);height: 1px;margin: -1px;overflow: hidden;padding: 0;position: absolute;width: 1px;}#sk-container-id-69 div.sk-estimator {font-family: monospace;background-color: #f0f8ff;border: 1px dotted black;border-radius: 0.25em;box-sizing: border-box;margin-bottom: 0.5em;}#sk-container-id-69 div.sk-estimator:hover {background-color: #d4ebff;}#sk-container-id-69 div.sk-parallel-item::after {content: \"\";width: 100%;border-bottom: 1px solid gray;flex-grow: 1;}#sk-container-id-69 div.sk-label:hover label.sk-toggleable__label {background-color: #d4ebff;}#sk-container-id-69 div.sk-serial::before {content: \"\";position: absolute;border-left: 1px solid gray;box-sizing: border-box;top: 0;bottom: 0;left: 50%;z-index: 0;}#sk-container-id-69 div.sk-serial {display: flex;flex-direction: column;align-items: center;background-color: white;padding-right: 0.2em;padding-left: 0.2em;position: relative;}#sk-container-id-69 div.sk-item {position: relative;z-index: 1;}#sk-container-id-69 div.sk-parallel {display: flex;align-items: stretch;justify-content: center;background-color: white;position: relative;}#sk-container-id-69 div.sk-item::before, #sk-container-id-69 div.sk-parallel-item::before {content: \"\";position: absolute;border-left: 1px solid gray;box-sizing: border-box;top: 0;bottom: 0;left: 50%;z-index: -1;}#sk-container-id-69 div.sk-parallel-item {display: flex;flex-direction: column;z-index: 1;position: relative;background-color: white;}#sk-container-id-69 div.sk-parallel-item:first-child::after {align-self: flex-end;width: 50%;}#sk-container-id-69 div.sk-parallel-item:last-child::after {align-self: flex-start;width: 50%;}#sk-container-id-69 div.sk-parallel-item:only-child::after {width: 0;}#sk-container-id-69 div.sk-dashed-wrapped {border: 1px dashed gray;margin: 0 0.4em 0.5em 0.4em;box-sizing: border-box;padding-bottom: 0.4em;background-color: white;}#sk-container-id-69 div.sk-label label {font-family: monospace;font-weight: bold;display: inline-block;line-height: 1.2em;}#sk-container-id-69 div.sk-label-container {text-align: center;}#sk-container-id-69 div.sk-container {/* jupyter's `normalize.less` sets `[hidden] { display: none; }` but bootstrap.min.css set `[hidden] { display: none !important; }` so we also need the `!important` here to be able to override the default hidden behavior on the sphinx rendered scikit-learn.org. See: https://github.com/scikit-learn/scikit-learn/issues/21755 */display: inline-block !important;position: relative;}#sk-container-id-69 div.sk-text-repr-fallback {display: none;}</style><div id=\"sk-container-id-69\" class=\"sk-top-container\"><div class=\"sk-text-repr-fallback\"><pre>LinearRegression()</pre><b>In a Jupyter environment, please rerun this cell to show the HTML representation or trust the notebook. <br />On GitHub, the HTML representation is unable to render, please try loading this page with nbviewer.org.</b></div><div class=\"sk-container\" hidden><div class=\"sk-item\"><div class=\"sk-estimator sk-toggleable\"><input class=\"sk-toggleable__control sk-hidden--visually\" id=\"sk-estimator-id-69\" type=\"checkbox\" checked><label for=\"sk-estimator-id-69\" class=\"sk-toggleable__label sk-toggleable__label-arrow\">LinearRegression</label><div class=\"sk-toggleable__content\"><pre>LinearRegression()</pre></div></div></div></div></div>"
      ],
      "text/plain": [
       "LinearRegression()"
      ]
     },
     "execution_count": 482,
     "metadata": {},
     "output_type": "execute_result"
    }
   ],
   "source": [
    "lr = LinearRegression()\n",
    "lr.fit(x,y)"
   ]
  },
  {
   "cell_type": "code",
   "execution_count": 484,
   "id": "670b1ad6",
   "metadata": {},
   "outputs": [],
   "source": [
    "X_train,X_test,y_train,y_test = train_test_split(X,y,test_size=0.3,random_state=42)"
   ]
  },
  {
   "cell_type": "code",
   "execution_count": 485,
   "id": "a6fff0dd",
   "metadata": {},
   "outputs": [
    {
     "data": {
      "text/plain": [
       "0.8817812071807718"
      ]
     },
     "execution_count": 485,
     "metadata": {},
     "output_type": "execute_result"
    }
   ],
   "source": [
    "lr.fit(X_train,y_train)\n",
    "lr.score(X_train,y_train)"
   ]
  },
  {
   "cell_type": "code",
   "execution_count": 486,
   "id": "ccfcdd47",
   "metadata": {},
   "outputs": [
    {
     "data": {
      "text/plain": [
       "0.8601395612102566"
      ]
     },
     "execution_count": 486,
     "metadata": {},
     "output_type": "execute_result"
    }
   ],
   "source": [
    "lr.score(X_test,y_test)"
   ]
  },
  {
   "cell_type": "code",
   "execution_count": 487,
   "id": "df3d1505",
   "metadata": {},
   "outputs": [
    {
     "data": {
      "text/plain": [
       "0.9719869423779102"
      ]
     },
     "execution_count": 487,
     "metadata": {},
     "output_type": "execute_result"
    }
   ],
   "source": [
    "dt.fit(X_train,y_train)\n",
    "dt.score(X_train,y_train)"
   ]
  },
  {
   "cell_type": "code",
   "execution_count": 488,
   "id": "27ad2e41",
   "metadata": {},
   "outputs": [
    {
     "data": {
      "text/plain": [
       "0.8241968333404363"
      ]
     },
     "execution_count": 488,
     "metadata": {},
     "output_type": "execute_result"
    }
   ],
   "source": [
    "dt.score(X_test,y_test)"
   ]
  },
  {
   "cell_type": "code",
   "execution_count": 490,
   "id": "72a1a8af",
   "metadata": {},
   "outputs": [
    {
     "name": "stderr",
     "output_type": "stream",
     "text": [
      "c:\\users\\hp\\appdata\\local\\programs\\python\\python39\\lib\\site-packages\\sklearn\\ensemble\\_gb.py:570: DataConversionWarning: A column-vector y was passed when a 1d array was expected. Please change the shape of y to (n_samples, ), for example using ravel().\n",
      "  y = column_or_1d(y, warn=True)\n"
     ]
    },
    {
     "data": {
      "text/plain": [
       "0.9649670590043902"
      ]
     },
     "execution_count": 490,
     "metadata": {},
     "output_type": "execute_result"
    }
   ],
   "source": [
    "gbr.fit(X_train,y_train)\n",
    "gbr.score(X_train,y_train)"
   ]
  },
  {
   "cell_type": "code",
   "execution_count": 491,
   "id": "47c125b4",
   "metadata": {},
   "outputs": [
    {
     "data": {
      "text/plain": [
       "0.9092015827350863"
      ]
     },
     "execution_count": 491,
     "metadata": {},
     "output_type": "execute_result"
    }
   ],
   "source": [
    "gbr.score(X_test,y_test)"
   ]
  },
  {
   "cell_type": "code",
   "execution_count": 492,
   "id": "e340bf47",
   "metadata": {},
   "outputs": [
    {
     "name": "stderr",
     "output_type": "stream",
     "text": [
      "<ipython-input-492-133cccfe5d78>:1: DataConversionWarning: A column-vector y was passed when a 1d array was expected. Please change the shape of y to (n_samples,), for example using ravel().\n",
      "  rf.fit(X_train,y_train)\n"
     ]
    },
    {
     "data": {
      "text/plain": [
       "0.9621264971304294"
      ]
     },
     "execution_count": 492,
     "metadata": {},
     "output_type": "execute_result"
    }
   ],
   "source": [
    "rf.fit(X_train,y_train)\n",
    "rf.score(X_train,y_train)"
   ]
  },
  {
   "cell_type": "code",
   "execution_count": 493,
   "id": "8c4dad60",
   "metadata": {},
   "outputs": [
    {
     "data": {
      "text/plain": [
       "0.9038208775491661"
      ]
     },
     "execution_count": 493,
     "metadata": {},
     "output_type": "execute_result"
    }
   ],
   "source": [
    "rf.score(X_test,y_test)"
   ]
  },
  {
   "cell_type": "code",
   "execution_count": null,
   "id": "5a593fa2",
   "metadata": {},
   "outputs": [],
   "source": []
  }
 ],
 "metadata": {
  "kernelspec": {
   "display_name": "Python 3",
   "language": "python",
   "name": "python3"
  },
  "language_info": {
   "codemirror_mode": {
    "name": "ipython",
    "version": 3
   },
   "file_extension": ".py",
   "mimetype": "text/x-python",
   "name": "python",
   "nbconvert_exporter": "python",
   "pygments_lexer": "ipython3",
   "version": "3.9.4"
  }
 },
 "nbformat": 4,
 "nbformat_minor": 5
}
